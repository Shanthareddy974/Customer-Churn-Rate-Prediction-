{
 "cells": [
  {
   "cell_type": "markdown",
   "metadata": {},
   "source": [
    "# Predict the churn risk rate (HackerEarth)"
   ]
  },
  {
   "cell_type": "raw",
   "metadata": {},
   "source": [
    "Churn rate is a marketing metric that describes the number of customers who leave a business over a specific time period. Every user is assigned a prediction value that estimates their state of churn at any given time. This value is based on:\n",
    "\n",
    "1. User demographic information\n",
    "2. Browsing behavior\n",
    "3. Historical purchase data among other information\n",
    "\n",
    "It factors in our unique and proprietary predictions of how long a user will remain a customer. This score is updated every day for all users who have a minimum of one conversion. The values assigned are between 1 and 5."
   ]
  },
  {
   "cell_type": "markdown",
   "metadata": {},
   "source": [
    "# Task\n",
    "Is to predict the churn score for a website based on the features provided in the dataset."
   ]
  },
  {
   "cell_type": "code",
   "execution_count": 1,
   "metadata": {},
   "outputs": [],
   "source": [
    "# Importing libraries\n",
    "import numpy as np\n",
    "import pandas as pd\n",
    "import matplotlib.pyplot as plt\n",
    "import seaborn as sns\n",
    "\n",
    "import warnings\n",
    "warnings.filterwarnings('ignore')"
   ]
  },
  {
   "cell_type": "code",
   "execution_count": 3,
   "metadata": {},
   "outputs": [
    {
     "data": {
      "text/html": [
       "<div>\n",
       "<style scoped>\n",
       "    .dataframe tbody tr th:only-of-type {\n",
       "        vertical-align: middle;\n",
       "    }\n",
       "\n",
       "    .dataframe tbody tr th {\n",
       "        vertical-align: top;\n",
       "    }\n",
       "\n",
       "    .dataframe thead th {\n",
       "        text-align: right;\n",
       "    }\n",
       "</style>\n",
       "<table border=\"1\" class=\"dataframe\">\n",
       "  <thead>\n",
       "    <tr style=\"text-align: right;\">\n",
       "      <th></th>\n",
       "      <th>customer_id</th>\n",
       "      <th>Name</th>\n",
       "      <th>age</th>\n",
       "      <th>gender</th>\n",
       "      <th>security_no</th>\n",
       "      <th>region_category</th>\n",
       "      <th>membership_category</th>\n",
       "      <th>joining_date</th>\n",
       "      <th>joined_through_referral</th>\n",
       "      <th>referral_id</th>\n",
       "      <th>...</th>\n",
       "      <th>avg_time_spent</th>\n",
       "      <th>avg_transaction_value</th>\n",
       "      <th>avg_frequency_login_days</th>\n",
       "      <th>points_in_wallet</th>\n",
       "      <th>used_special_discount</th>\n",
       "      <th>offer_application_preference</th>\n",
       "      <th>past_complaint</th>\n",
       "      <th>complaint_status</th>\n",
       "      <th>feedback</th>\n",
       "      <th>churn_risk_score</th>\n",
       "    </tr>\n",
       "  </thead>\n",
       "  <tbody>\n",
       "    <tr>\n",
       "      <th>0</th>\n",
       "      <td>fffe4300490044003600300030003800</td>\n",
       "      <td>Pattie Morrisey</td>\n",
       "      <td>18</td>\n",
       "      <td>F</td>\n",
       "      <td>XW0DQ7H</td>\n",
       "      <td>Village</td>\n",
       "      <td>Platinum Membership</td>\n",
       "      <td>2017-08-17</td>\n",
       "      <td>No</td>\n",
       "      <td>xxxxxxxx</td>\n",
       "      <td>...</td>\n",
       "      <td>300.63</td>\n",
       "      <td>53005.25</td>\n",
       "      <td>17.0</td>\n",
       "      <td>781.75</td>\n",
       "      <td>Yes</td>\n",
       "      <td>Yes</td>\n",
       "      <td>No</td>\n",
       "      <td>Not Applicable</td>\n",
       "      <td>Products always in Stock</td>\n",
       "      <td>2</td>\n",
       "    </tr>\n",
       "    <tr>\n",
       "      <th>1</th>\n",
       "      <td>fffe43004900440032003100300035003700</td>\n",
       "      <td>Traci Peery</td>\n",
       "      <td>32</td>\n",
       "      <td>F</td>\n",
       "      <td>5K0N3X1</td>\n",
       "      <td>City</td>\n",
       "      <td>Premium Membership</td>\n",
       "      <td>2017-08-28</td>\n",
       "      <td>?</td>\n",
       "      <td>CID21329</td>\n",
       "      <td>...</td>\n",
       "      <td>306.34</td>\n",
       "      <td>12838.38</td>\n",
       "      <td>10.0</td>\n",
       "      <td>NaN</td>\n",
       "      <td>Yes</td>\n",
       "      <td>No</td>\n",
       "      <td>Yes</td>\n",
       "      <td>Solved</td>\n",
       "      <td>Quality Customer Care</td>\n",
       "      <td>1</td>\n",
       "    </tr>\n",
       "    <tr>\n",
       "      <th>2</th>\n",
       "      <td>fffe4300490044003100390032003600</td>\n",
       "      <td>Merideth Mcmeen</td>\n",
       "      <td>44</td>\n",
       "      <td>F</td>\n",
       "      <td>1F2TCL3</td>\n",
       "      <td>Town</td>\n",
       "      <td>No Membership</td>\n",
       "      <td>2016-11-11</td>\n",
       "      <td>Yes</td>\n",
       "      <td>CID12313</td>\n",
       "      <td>...</td>\n",
       "      <td>516.16</td>\n",
       "      <td>21027.00</td>\n",
       "      <td>22.0</td>\n",
       "      <td>500.69</td>\n",
       "      <td>No</td>\n",
       "      <td>Yes</td>\n",
       "      <td>Yes</td>\n",
       "      <td>Solved in Follow-up</td>\n",
       "      <td>Poor Website</td>\n",
       "      <td>5</td>\n",
       "    </tr>\n",
       "    <tr>\n",
       "      <th>3</th>\n",
       "      <td>fffe43004900440036003000330031003600</td>\n",
       "      <td>Eufemia Cardwell</td>\n",
       "      <td>37</td>\n",
       "      <td>M</td>\n",
       "      <td>VJGJ33N</td>\n",
       "      <td>City</td>\n",
       "      <td>No Membership</td>\n",
       "      <td>2016-10-29</td>\n",
       "      <td>Yes</td>\n",
       "      <td>CID3793</td>\n",
       "      <td>...</td>\n",
       "      <td>53.27</td>\n",
       "      <td>25239.56</td>\n",
       "      <td>6.0</td>\n",
       "      <td>567.66</td>\n",
       "      <td>No</td>\n",
       "      <td>Yes</td>\n",
       "      <td>Yes</td>\n",
       "      <td>Unsolved</td>\n",
       "      <td>Poor Website</td>\n",
       "      <td>5</td>\n",
       "    </tr>\n",
       "    <tr>\n",
       "      <th>4</th>\n",
       "      <td>fffe43004900440031003900350030003600</td>\n",
       "      <td>Meghan Kosak</td>\n",
       "      <td>31</td>\n",
       "      <td>F</td>\n",
       "      <td>SVZXCWB</td>\n",
       "      <td>City</td>\n",
       "      <td>No Membership</td>\n",
       "      <td>2017-09-12</td>\n",
       "      <td>No</td>\n",
       "      <td>xxxxxxxx</td>\n",
       "      <td>...</td>\n",
       "      <td>113.13</td>\n",
       "      <td>24483.66</td>\n",
       "      <td>16.0</td>\n",
       "      <td>663.06</td>\n",
       "      <td>No</td>\n",
       "      <td>Yes</td>\n",
       "      <td>Yes</td>\n",
       "      <td>Solved</td>\n",
       "      <td>Poor Website</td>\n",
       "      <td>5</td>\n",
       "    </tr>\n",
       "    <tr>\n",
       "      <th>5</th>\n",
       "      <td>fffe43004900440036003300320035003300</td>\n",
       "      <td>Leslie Browder</td>\n",
       "      <td>13</td>\n",
       "      <td>M</td>\n",
       "      <td>PSG1LGF</td>\n",
       "      <td>City</td>\n",
       "      <td>Gold Membership</td>\n",
       "      <td>2016-01-08</td>\n",
       "      <td>No</td>\n",
       "      <td>xxxxxxxx</td>\n",
       "      <td>...</td>\n",
       "      <td>433.62</td>\n",
       "      <td>13884.77</td>\n",
       "      <td>24.0</td>\n",
       "      <td>722.27</td>\n",
       "      <td>Yes</td>\n",
       "      <td>No</td>\n",
       "      <td>Yes</td>\n",
       "      <td>Unsolved</td>\n",
       "      <td>No reason specified</td>\n",
       "      <td>3</td>\n",
       "    </tr>\n",
       "    <tr>\n",
       "      <th>6</th>\n",
       "      <td>fffe43004900440031003100360037003900</td>\n",
       "      <td>Bridget Balog</td>\n",
       "      <td>21</td>\n",
       "      <td>M</td>\n",
       "      <td>R3CX1EA</td>\n",
       "      <td>Town</td>\n",
       "      <td>Gold Membership</td>\n",
       "      <td>2015-03-19</td>\n",
       "      <td>Yes</td>\n",
       "      <td>CID24708</td>\n",
       "      <td>...</td>\n",
       "      <td>55.38</td>\n",
       "      <td>8982.50</td>\n",
       "      <td>28.0</td>\n",
       "      <td>756.21</td>\n",
       "      <td>Yes</td>\n",
       "      <td>No</td>\n",
       "      <td>Yes</td>\n",
       "      <td>Solved in Follow-up</td>\n",
       "      <td>No reason specified</td>\n",
       "      <td>3</td>\n",
       "    </tr>\n",
       "    <tr>\n",
       "      <th>7</th>\n",
       "      <td>fffe4300490044003800300035003800</td>\n",
       "      <td>Herma Torgeson</td>\n",
       "      <td>42</td>\n",
       "      <td>M</td>\n",
       "      <td>4UJ1551</td>\n",
       "      <td>NaN</td>\n",
       "      <td>No Membership</td>\n",
       "      <td>2016-07-12</td>\n",
       "      <td>?</td>\n",
       "      <td>CID56614</td>\n",
       "      <td>...</td>\n",
       "      <td>429.11</td>\n",
       "      <td>44554.82</td>\n",
       "      <td>24.0</td>\n",
       "      <td>568.08</td>\n",
       "      <td>No</td>\n",
       "      <td>Yes</td>\n",
       "      <td>Yes</td>\n",
       "      <td>Unsolved</td>\n",
       "      <td>Poor Product Quality</td>\n",
       "      <td>5</td>\n",
       "    </tr>\n",
       "    <tr>\n",
       "      <th>8</th>\n",
       "      <td>fffe43004900440033003300330032003200</td>\n",
       "      <td>Pattie Helmers</td>\n",
       "      <td>44</td>\n",
       "      <td>M</td>\n",
       "      <td>0481QNQ</td>\n",
       "      <td>Village</td>\n",
       "      <td>Silver Membership</td>\n",
       "      <td>2016-12-14</td>\n",
       "      <td>No</td>\n",
       "      <td>xxxxxxxx</td>\n",
       "      <td>...</td>\n",
       "      <td>191.07</td>\n",
       "      <td>18362.31</td>\n",
       "      <td>20.0</td>\n",
       "      <td>NaN</td>\n",
       "      <td>Yes</td>\n",
       "      <td>No</td>\n",
       "      <td>Yes</td>\n",
       "      <td>Solved in Follow-up</td>\n",
       "      <td>Poor Customer Service</td>\n",
       "      <td>3</td>\n",
       "    </tr>\n",
       "    <tr>\n",
       "      <th>9</th>\n",
       "      <td>fffe43004900440032003000340038003300</td>\n",
       "      <td>Shaquana Leech</td>\n",
       "      <td>45</td>\n",
       "      <td>F</td>\n",
       "      <td>ZHP4MCR</td>\n",
       "      <td>Town</td>\n",
       "      <td>No Membership</td>\n",
       "      <td>2016-11-30</td>\n",
       "      <td>No</td>\n",
       "      <td>xxxxxxxx</td>\n",
       "      <td>...</td>\n",
       "      <td>97.31</td>\n",
       "      <td>19244.16</td>\n",
       "      <td>28.0</td>\n",
       "      <td>706.23</td>\n",
       "      <td>No</td>\n",
       "      <td>Yes</td>\n",
       "      <td>Yes</td>\n",
       "      <td>No Information Available</td>\n",
       "      <td>Poor Customer Service</td>\n",
       "      <td>4</td>\n",
       "    </tr>\n",
       "  </tbody>\n",
       "</table>\n",
       "<p>10 rows × 25 columns</p>\n",
       "</div>"
      ],
      "text/plain": [
       "                            customer_id              Name  age gender  \\\n",
       "0      fffe4300490044003600300030003800   Pattie Morrisey   18      F   \n",
       "1  fffe43004900440032003100300035003700       Traci Peery   32      F   \n",
       "2      fffe4300490044003100390032003600   Merideth Mcmeen   44      F   \n",
       "3  fffe43004900440036003000330031003600  Eufemia Cardwell   37      M   \n",
       "4  fffe43004900440031003900350030003600      Meghan Kosak   31      F   \n",
       "5  fffe43004900440036003300320035003300    Leslie Browder   13      M   \n",
       "6  fffe43004900440031003100360037003900     Bridget Balog   21      M   \n",
       "7      fffe4300490044003800300035003800    Herma Torgeson   42      M   \n",
       "8  fffe43004900440033003300330032003200    Pattie Helmers   44      M   \n",
       "9  fffe43004900440032003000340038003300    Shaquana Leech   45      F   \n",
       "\n",
       "  security_no region_category  membership_category joining_date  \\\n",
       "0     XW0DQ7H         Village  Platinum Membership   2017-08-17   \n",
       "1     5K0N3X1            City   Premium Membership   2017-08-28   \n",
       "2     1F2TCL3            Town        No Membership   2016-11-11   \n",
       "3     VJGJ33N            City        No Membership   2016-10-29   \n",
       "4     SVZXCWB            City        No Membership   2017-09-12   \n",
       "5     PSG1LGF            City      Gold Membership   2016-01-08   \n",
       "6     R3CX1EA            Town      Gold Membership   2015-03-19   \n",
       "7     4UJ1551             NaN        No Membership   2016-07-12   \n",
       "8     0481QNQ         Village    Silver Membership   2016-12-14   \n",
       "9     ZHP4MCR            Town        No Membership   2016-11-30   \n",
       "\n",
       "  joined_through_referral referral_id  ... avg_time_spent  \\\n",
       "0                      No    xxxxxxxx  ...         300.63   \n",
       "1                       ?    CID21329  ...         306.34   \n",
       "2                     Yes    CID12313  ...         516.16   \n",
       "3                     Yes     CID3793  ...          53.27   \n",
       "4                      No    xxxxxxxx  ...         113.13   \n",
       "5                      No    xxxxxxxx  ...         433.62   \n",
       "6                     Yes    CID24708  ...          55.38   \n",
       "7                       ?    CID56614  ...         429.11   \n",
       "8                      No    xxxxxxxx  ...         191.07   \n",
       "9                      No    xxxxxxxx  ...          97.31   \n",
       "\n",
       "  avg_transaction_value avg_frequency_login_days points_in_wallet  \\\n",
       "0              53005.25                     17.0           781.75   \n",
       "1              12838.38                     10.0              NaN   \n",
       "2              21027.00                     22.0           500.69   \n",
       "3              25239.56                      6.0           567.66   \n",
       "4              24483.66                     16.0           663.06   \n",
       "5              13884.77                     24.0           722.27   \n",
       "6               8982.50                     28.0           756.21   \n",
       "7              44554.82                     24.0           568.08   \n",
       "8              18362.31                     20.0              NaN   \n",
       "9              19244.16                     28.0           706.23   \n",
       "\n",
       "   used_special_discount  offer_application_preference  past_complaint  \\\n",
       "0                    Yes                           Yes              No   \n",
       "1                    Yes                            No             Yes   \n",
       "2                     No                           Yes             Yes   \n",
       "3                     No                           Yes             Yes   \n",
       "4                     No                           Yes             Yes   \n",
       "5                    Yes                            No             Yes   \n",
       "6                    Yes                            No             Yes   \n",
       "7                     No                           Yes             Yes   \n",
       "8                    Yes                            No             Yes   \n",
       "9                     No                           Yes             Yes   \n",
       "\n",
       "           complaint_status                  feedback churn_risk_score  \n",
       "0            Not Applicable  Products always in Stock                2  \n",
       "1                    Solved     Quality Customer Care                1  \n",
       "2       Solved in Follow-up              Poor Website                5  \n",
       "3                  Unsolved              Poor Website                5  \n",
       "4                    Solved              Poor Website                5  \n",
       "5                  Unsolved       No reason specified                3  \n",
       "6       Solved in Follow-up       No reason specified                3  \n",
       "7                  Unsolved      Poor Product Quality                5  \n",
       "8       Solved in Follow-up     Poor Customer Service                3  \n",
       "9  No Information Available     Poor Customer Service                4  \n",
       "\n",
       "[10 rows x 25 columns]"
      ]
     },
     "execution_count": 3,
     "metadata": {},
     "output_type": "execute_result"
    }
   ],
   "source": [
    "# Importing dataset and reading dataset\n",
    "df = pd.read_csv('train.csv')\n",
    "df.head(10)"
   ]
  },
  {
   "cell_type": "code",
   "execution_count": 354,
   "metadata": {},
   "outputs": [
    {
     "data": {
      "text/plain": [
       "(36992, 25)"
      ]
     },
     "execution_count": 354,
     "metadata": {},
     "output_type": "execute_result"
    }
   ],
   "source": [
    "# Shape of the dataset\n",
    "df.shape"
   ]
  },
  {
   "cell_type": "code",
   "execution_count": 50,
   "metadata": {},
   "outputs": [
    {
     "data": {
      "text/plain": [
       "Index(['customer_id', 'Name', 'age', 'gender', 'security_no',\n",
       "       'region_category', 'membership_category', 'joining_date',\n",
       "       'joined_through_referral', 'referral_id', 'preferred_offer_types',\n",
       "       'medium_of_operation', 'internet_option', 'last_visit_time',\n",
       "       'days_since_last_login', 'avg_time_spent', 'avg_transaction_value',\n",
       "       'avg_frequency_login_days', 'points_in_wallet', 'used_special_discount',\n",
       "       'offer_application_preference', 'past_complaint', 'complaint_status',\n",
       "       'feedback', 'churn_risk_score'],\n",
       "      dtype='object')"
      ]
     },
     "execution_count": 50,
     "metadata": {},
     "output_type": "execute_result"
    }
   ],
   "source": [
    "# Columns / Features names\n",
    "df.columns"
   ]
  },
  {
   "cell_type": "markdown",
   "metadata": {},
   "source": [
    "# Data Preprocessing / EDA"
   ]
  },
  {
   "cell_type": "code",
   "execution_count": 355,
   "metadata": {},
   "outputs": [
    {
     "data": {
      "text/html": [
       "<div>\n",
       "<style scoped>\n",
       "    .dataframe tbody tr th:only-of-type {\n",
       "        vertical-align: middle;\n",
       "    }\n",
       "\n",
       "    .dataframe tbody tr th {\n",
       "        vertical-align: top;\n",
       "    }\n",
       "\n",
       "    .dataframe thead th {\n",
       "        text-align: right;\n",
       "    }\n",
       "</style>\n",
       "<table border=\"1\" class=\"dataframe\">\n",
       "  <thead>\n",
       "    <tr style=\"text-align: right;\">\n",
       "      <th></th>\n",
       "      <th>age</th>\n",
       "      <th>gender</th>\n",
       "      <th>region_category</th>\n",
       "      <th>membership_category</th>\n",
       "      <th>joined_through_referral</th>\n",
       "      <th>preferred_offer_types</th>\n",
       "      <th>medium_of_operation</th>\n",
       "      <th>internet_option</th>\n",
       "      <th>days_since_last_login</th>\n",
       "      <th>avg_time_spent</th>\n",
       "      <th>avg_transaction_value</th>\n",
       "      <th>avg_frequency_login_days</th>\n",
       "      <th>points_in_wallet</th>\n",
       "      <th>used_special_discount</th>\n",
       "      <th>offer_application_preference</th>\n",
       "      <th>past_complaint</th>\n",
       "      <th>complaint_status</th>\n",
       "      <th>feedback</th>\n",
       "      <th>churn_risk_score</th>\n",
       "    </tr>\n",
       "  </thead>\n",
       "  <tbody>\n",
       "    <tr>\n",
       "      <th>0</th>\n",
       "      <td>18</td>\n",
       "      <td>F</td>\n",
       "      <td>Village</td>\n",
       "      <td>Platinum Membership</td>\n",
       "      <td>No</td>\n",
       "      <td>Gift Vouchers/Coupons</td>\n",
       "      <td>?</td>\n",
       "      <td>Wi-Fi</td>\n",
       "      <td>17</td>\n",
       "      <td>300.63</td>\n",
       "      <td>53005.25</td>\n",
       "      <td>17.0</td>\n",
       "      <td>781.75</td>\n",
       "      <td>Yes</td>\n",
       "      <td>Yes</td>\n",
       "      <td>No</td>\n",
       "      <td>Not Applicable</td>\n",
       "      <td>Products always in Stock</td>\n",
       "      <td>2</td>\n",
       "    </tr>\n",
       "    <tr>\n",
       "      <th>1</th>\n",
       "      <td>32</td>\n",
       "      <td>F</td>\n",
       "      <td>City</td>\n",
       "      <td>Premium Membership</td>\n",
       "      <td>?</td>\n",
       "      <td>Gift Vouchers/Coupons</td>\n",
       "      <td>Desktop</td>\n",
       "      <td>Mobile_Data</td>\n",
       "      <td>16</td>\n",
       "      <td>306.34</td>\n",
       "      <td>12838.38</td>\n",
       "      <td>10.0</td>\n",
       "      <td>NaN</td>\n",
       "      <td>Yes</td>\n",
       "      <td>No</td>\n",
       "      <td>Yes</td>\n",
       "      <td>Solved</td>\n",
       "      <td>Quality Customer Care</td>\n",
       "      <td>1</td>\n",
       "    </tr>\n",
       "  </tbody>\n",
       "</table>\n",
       "</div>"
      ],
      "text/plain": [
       "   age gender region_category  membership_category joined_through_referral  \\\n",
       "0   18      F         Village  Platinum Membership                      No   \n",
       "1   32      F            City   Premium Membership                       ?   \n",
       "\n",
       "   preferred_offer_types medium_of_operation internet_option  \\\n",
       "0  Gift Vouchers/Coupons                   ?           Wi-Fi   \n",
       "1  Gift Vouchers/Coupons             Desktop     Mobile_Data   \n",
       "\n",
       "   days_since_last_login  avg_time_spent  avg_transaction_value  \\\n",
       "0                     17          300.63               53005.25   \n",
       "1                     16          306.34               12838.38   \n",
       "\n",
       "  avg_frequency_login_days  points_in_wallet used_special_discount  \\\n",
       "0                     17.0            781.75                   Yes   \n",
       "1                     10.0               NaN                   Yes   \n",
       "\n",
       "  offer_application_preference past_complaint complaint_status  \\\n",
       "0                          Yes             No   Not Applicable   \n",
       "1                           No            Yes           Solved   \n",
       "\n",
       "                   feedback  churn_risk_score  \n",
       "0  Products always in Stock                 2  \n",
       "1     Quality Customer Care                 1  "
      ]
     },
     "execution_count": 355,
     "metadata": {},
     "output_type": "execute_result"
    }
   ],
   "source": [
    "# Removing In-significant features\n",
    "df1 = df.drop(['security_no','Name','referral_id','joining_date','last_visit_time','customer_id'], axis=1)\n",
    "df1.head(2)"
   ]
  },
  {
   "cell_type": "code",
   "execution_count": 350,
   "metadata": {},
   "outputs": [
    {
     "name": "stdout",
     "output_type": "stream",
     "text": [
      "<class 'pandas.core.frame.DataFrame'>\n",
      "RangeIndex: 36992 entries, 0 to 36991\n",
      "Data columns (total 19 columns):\n",
      " #   Column                        Non-Null Count  Dtype  \n",
      "---  ------                        --------------  -----  \n",
      " 0   age                           36992 non-null  int64  \n",
      " 1   gender                        36933 non-null  object \n",
      " 2   region_category               31564 non-null  object \n",
      " 3   membership_category           36992 non-null  object \n",
      " 4   joined_through_referral       31554 non-null  object \n",
      " 5   preferred_offer_types         36704 non-null  object \n",
      " 6   medium_of_operation           31599 non-null  object \n",
      " 7   internet_option               36992 non-null  object \n",
      " 8   days_since_last_login         36992 non-null  int64  \n",
      " 9   avg_time_spent                36992 non-null  float64\n",
      " 10  avg_transaction_value         36992 non-null  float64\n",
      " 11  avg_frequency_login_days      33470 non-null  float64\n",
      " 12  points_in_wallet              33549 non-null  float64\n",
      " 13  used_special_discount         36992 non-null  object \n",
      " 14  offer_application_preference  36992 non-null  object \n",
      " 15  past_complaint                36992 non-null  object \n",
      " 16  complaint_status              36992 non-null  object \n",
      " 17  feedback                      36992 non-null  object \n",
      " 18  churn_risk_score              36992 non-null  int64  \n",
      "dtypes: float64(4), int64(3), object(12)\n",
      "memory usage: 5.4+ MB\n"
     ]
    }
   ],
   "source": [
    "df1.info()"
   ]
  },
  {
   "cell_type": "code",
   "execution_count": 356,
   "metadata": {},
   "outputs": [
    {
     "data": {
      "text/plain": [
       "F          18490\n",
       "M          18443\n",
       "Unknown       59\n",
       "Name: gender, dtype: int64"
      ]
     },
     "execution_count": 356,
     "metadata": {},
     "output_type": "execute_result"
    }
   ],
   "source": [
    "# Check any unknown values or special symbols for categorical features in dataset\n",
    "# Replace 'Unknown' with NaN values\n",
    "df1['gender'].value_counts()\n",
    "df1['gender'] = df1['gender'].replace('Unknown', np.nan)"
   ]
  },
  {
   "cell_type": "code",
   "execution_count": 357,
   "metadata": {},
   "outputs": [
    {
     "data": {
      "text/plain": [
       "Town       14128\n",
       "City       12737\n",
       "Village     4699\n",
       "Name: region_category, dtype: int64"
      ]
     },
     "execution_count": 357,
     "metadata": {},
     "output_type": "execute_result"
    }
   ],
   "source": [
    "# In this column no unknown or special symbols are found\n",
    "df1['region_category'].value_counts()"
   ]
  },
  {
   "cell_type": "code",
   "execution_count": 361,
   "metadata": {},
   "outputs": [
    {
     "data": {
      "text/plain": [
       "Basic Membership       7724\n",
       "No Membership          7692\n",
       "Gold Membership        6795\n",
       "Silver Membership      5988\n",
       "Premium Membership     4455\n",
       "Platinum Membership    4338\n",
       "Name: membership_category, dtype: int64"
      ]
     },
     "execution_count": 361,
     "metadata": {},
     "output_type": "execute_result"
    }
   ],
   "source": [
    "# Check any unknown values or special symbols for categorical features in dataset\n",
    "df1['membership_category'].value_counts()"
   ]
  },
  {
   "cell_type": "code",
   "execution_count": 362,
   "metadata": {},
   "outputs": [
    {
     "data": {
      "text/plain": [
       "No     15839\n",
       "Yes    15715\n",
       "?       5438\n",
       "Name: joined_through_referral, dtype: int64"
      ]
     },
     "execution_count": 362,
     "metadata": {},
     "output_type": "execute_result"
    }
   ],
   "source": [
    "# Check any unknown values or special symbols for categorical features in dataset\n",
    "df1['joined_through_referral'].value_counts()"
   ]
  },
  {
   "cell_type": "code",
   "execution_count": 359,
   "metadata": {},
   "outputs": [
    {
     "data": {
      "text/plain": [
       "Gift Vouchers/Coupons       12349\n",
       "Credit/Debit Card Offers    12274\n",
       "Without Offers              12081\n",
       "Name: preferred_offer_types, dtype: int64"
      ]
     },
     "execution_count": 359,
     "metadata": {},
     "output_type": "execute_result"
    }
   ],
   "source": [
    "# Check any unknown values or special symbols for categorical features in dataset\n",
    "df1['preferred_offer_types'].value_counts()"
   ]
  },
  {
   "cell_type": "code",
   "execution_count": 360,
   "metadata": {},
   "outputs": [
    {
     "data": {
      "text/plain": [
       "Desktop       13913\n",
       "Smartphone    13876\n",
       "?              5393\n",
       "Both           3810\n",
       "Name: medium_of_operation, dtype: int64"
      ]
     },
     "execution_count": 360,
     "metadata": {},
     "output_type": "execute_result"
    }
   ],
   "source": [
    "# Check any unknown values or special symbols for categorical features in dataset\n",
    "# Replace 'Unknown' with NaN values\n",
    "df1['medium_of_operation'].value_counts()\n",
    "df1['medium_of_operation'] = df1['medium_of_operation'].replace('?', np.nan)"
   ]
  },
  {
   "cell_type": "code",
   "execution_count": 363,
   "metadata": {},
   "outputs": [
    {
     "data": {
      "text/plain": [
       "Wi-Fi          12413\n",
       "Mobile_Data    12343\n",
       "Fiber_Optic    12236\n",
       "Name: internet_option, dtype: int64"
      ]
     },
     "execution_count": 363,
     "metadata": {},
     "output_type": "execute_result"
    }
   ],
   "source": [
    "# Check any unknown values or special symbols for categorical features in dataset\n",
    "df1['internet_option'].value_counts()"
   ]
  },
  {
   "cell_type": "code",
   "execution_count": 364,
   "metadata": {},
   "outputs": [
    {
     "data": {
      "text/plain": [
       "Yes    20342\n",
       "No     16650\n",
       "Name: used_special_discount, dtype: int64"
      ]
     },
     "execution_count": 364,
     "metadata": {},
     "output_type": "execute_result"
    }
   ],
   "source": [
    "# Check any unknown values or special symbols for categorical features in dataset\n",
    "df1['used_special_discount'].value_counts()"
   ]
  },
  {
   "cell_type": "code",
   "execution_count": 365,
   "metadata": {},
   "outputs": [
    {
     "data": {
      "text/plain": [
       "No     18602\n",
       "Yes    18390\n",
       "Name: past_complaint, dtype: int64"
      ]
     },
     "execution_count": 365,
     "metadata": {},
     "output_type": "execute_result"
    }
   ],
   "source": [
    "# Check any unknown values or special symbols for categorical features in dataset\n",
    "df1['past_complaint'].value_counts()"
   ]
  },
  {
   "cell_type": "code",
   "execution_count": 366,
   "metadata": {},
   "outputs": [
    {
     "data": {
      "text/plain": [
       "Not Applicable              18602\n",
       "Unsolved                     4644\n",
       "Solved                       4619\n",
       "Solved in Follow-up          4577\n",
       "No Information Available     4550\n",
       "Name: complaint_status, dtype: int64"
      ]
     },
     "execution_count": 366,
     "metadata": {},
     "output_type": "execute_result"
    }
   ],
   "source": [
    "# Check any unknown values or special symbols for categorical features in dataset\n",
    "df1['complaint_status'].value_counts()"
   ]
  },
  {
   "cell_type": "code",
   "execution_count": 367,
   "metadata": {},
   "outputs": [
    {
     "data": {
      "text/plain": [
       "Poor Product Quality        6350\n",
       "No reason specified         6290\n",
       "Too many ads                6279\n",
       "Poor Website                6271\n",
       "Poor Customer Service       6252\n",
       "Reasonable Price            1417\n",
       "User Friendly Website       1391\n",
       "Products always in Stock    1382\n",
       "Quality Customer Care       1360\n",
       "Name: feedback, dtype: int64"
      ]
     },
     "execution_count": 367,
     "metadata": {},
     "output_type": "execute_result"
    }
   ],
   "source": [
    "# Check any unknown values or special symbols for categorical features in dataset\n",
    "df1['feedback'].value_counts()"
   ]
  },
  {
   "cell_type": "code",
   "execution_count": 368,
   "metadata": {},
   "outputs": [
    {
     "data": {
      "text/plain": [
       "Index(['age', 'gender', 'region_category', 'membership_category',\n",
       "       'joined_through_referral', 'preferred_offer_types',\n",
       "       'medium_of_operation', 'internet_option', 'days_since_last_login',\n",
       "       'avg_time_spent', 'avg_transaction_value', 'avg_frequency_login_days',\n",
       "       'points_in_wallet', 'used_special_discount',\n",
       "       'offer_application_preference', 'past_complaint', 'complaint_status',\n",
       "       'feedback', 'churn_risk_score'],\n",
       "      dtype='object')"
      ]
     },
     "execution_count": 368,
     "metadata": {},
     "output_type": "execute_result"
    }
   ],
   "source": [
    "df1.columns"
   ]
  },
  {
   "cell_type": "code",
   "execution_count": 370,
   "metadata": {},
   "outputs": [
    {
     "data": {
      "text/plain": [
       "Error                  3522\n",
       "13.0                   1394\n",
       "19.0                   1365\n",
       "8.0                    1361\n",
       "14.0                   1355\n",
       "                       ... \n",
       "49.62913718430662         1\n",
       "-8.388346730342558        1\n",
       "-5.326618309040633        1\n",
       "50.71743119927807         1\n",
       "-0.7861176834842816       1\n",
       "Name: avg_frequency_login_days, Length: 1654, dtype: int64"
      ]
     },
     "execution_count": 370,
     "metadata": {},
     "output_type": "execute_result"
    }
   ],
   "source": [
    "# Check any unknown values or special symbols for continuous features in dataset\n",
    "# Replace 'Unknown' with NaN values\n",
    "df1['avg_frequency_login_days'].value_counts()\n",
    "df1['avg_frequency_login_days'] = df1['avg_frequency_login_days'].replace('Error', np.nan)"
   ]
  },
  {
   "cell_type": "code",
   "execution_count": 371,
   "metadata": {},
   "outputs": [],
   "source": [
    "# Changing the datatype to 'float64'\n",
    "df1['avg_frequency_login_days'] = df1['avg_frequency_login_days'].astype('float64')"
   ]
  },
  {
   "cell_type": "code",
   "execution_count": 373,
   "metadata": {},
   "outputs": [
    {
     "data": {
      "text/html": [
       "<div>\n",
       "<style scoped>\n",
       "    .dataframe tbody tr th:only-of-type {\n",
       "        vertical-align: middle;\n",
       "    }\n",
       "\n",
       "    .dataframe tbody tr th {\n",
       "        vertical-align: top;\n",
       "    }\n",
       "\n",
       "    .dataframe thead th {\n",
       "        text-align: right;\n",
       "    }\n",
       "</style>\n",
       "<table border=\"1\" class=\"dataframe\">\n",
       "  <thead>\n",
       "    <tr style=\"text-align: right;\">\n",
       "      <th></th>\n",
       "      <th>count</th>\n",
       "      <th>mean</th>\n",
       "      <th>std</th>\n",
       "      <th>min</th>\n",
       "      <th>25%</th>\n",
       "      <th>50%</th>\n",
       "      <th>75%</th>\n",
       "      <th>max</th>\n",
       "    </tr>\n",
       "  </thead>\n",
       "  <tbody>\n",
       "    <tr>\n",
       "      <th>age</th>\n",
       "      <td>36992.0</td>\n",
       "      <td>37.118161</td>\n",
       "      <td>15.867412</td>\n",
       "      <td>10.000000</td>\n",
       "      <td>23.0000</td>\n",
       "      <td>37.000</td>\n",
       "      <td>51.000</td>\n",
       "      <td>64.000000</td>\n",
       "    </tr>\n",
       "    <tr>\n",
       "      <th>days_since_last_login</th>\n",
       "      <td>36992.0</td>\n",
       "      <td>-41.915576</td>\n",
       "      <td>228.819900</td>\n",
       "      <td>-999.000000</td>\n",
       "      <td>8.0000</td>\n",
       "      <td>12.000</td>\n",
       "      <td>16.000</td>\n",
       "      <td>26.000000</td>\n",
       "    </tr>\n",
       "    <tr>\n",
       "      <th>avg_time_spent</th>\n",
       "      <td>36992.0</td>\n",
       "      <td>243.472334</td>\n",
       "      <td>398.289149</td>\n",
       "      <td>-2814.109110</td>\n",
       "      <td>60.1025</td>\n",
       "      <td>161.765</td>\n",
       "      <td>356.515</td>\n",
       "      <td>3235.578521</td>\n",
       "    </tr>\n",
       "    <tr>\n",
       "      <th>avg_transaction_value</th>\n",
       "      <td>36992.0</td>\n",
       "      <td>29271.194003</td>\n",
       "      <td>19444.806226</td>\n",
       "      <td>800.460000</td>\n",
       "      <td>14177.5400</td>\n",
       "      <td>27554.485</td>\n",
       "      <td>40855.110</td>\n",
       "      <td>99914.050000</td>\n",
       "    </tr>\n",
       "    <tr>\n",
       "      <th>points_in_wallet</th>\n",
       "      <td>33549.0</td>\n",
       "      <td>686.882199</td>\n",
       "      <td>194.063624</td>\n",
       "      <td>-760.661236</td>\n",
       "      <td>616.1500</td>\n",
       "      <td>697.620</td>\n",
       "      <td>763.950</td>\n",
       "      <td>2069.069761</td>\n",
       "    </tr>\n",
       "    <tr>\n",
       "      <th>churn_risk_score</th>\n",
       "      <td>36992.0</td>\n",
       "      <td>3.463397</td>\n",
       "      <td>1.409661</td>\n",
       "      <td>-1.000000</td>\n",
       "      <td>3.0000</td>\n",
       "      <td>4.000</td>\n",
       "      <td>5.000</td>\n",
       "      <td>5.000000</td>\n",
       "    </tr>\n",
       "  </tbody>\n",
       "</table>\n",
       "</div>"
      ],
      "text/plain": [
       "                         count          mean           std          min  \\\n",
       "age                    36992.0     37.118161     15.867412    10.000000   \n",
       "days_since_last_login  36992.0    -41.915576    228.819900  -999.000000   \n",
       "avg_time_spent         36992.0    243.472334    398.289149 -2814.109110   \n",
       "avg_transaction_value  36992.0  29271.194003  19444.806226   800.460000   \n",
       "points_in_wallet       33549.0    686.882199    194.063624  -760.661236   \n",
       "churn_risk_score       36992.0      3.463397      1.409661    -1.000000   \n",
       "\n",
       "                              25%        50%        75%           max  \n",
       "age                       23.0000     37.000     51.000     64.000000  \n",
       "days_since_last_login      8.0000     12.000     16.000     26.000000  \n",
       "avg_time_spent            60.1025    161.765    356.515   3235.578521  \n",
       "avg_transaction_value  14177.5400  27554.485  40855.110  99914.050000  \n",
       "points_in_wallet         616.1500    697.620    763.950   2069.069761  \n",
       "churn_risk_score           3.0000      4.000      5.000      5.000000  "
      ]
     },
     "execution_count": 373,
     "metadata": {},
     "output_type": "execute_result"
    }
   ],
   "source": [
    "df1.describe().T"
   ]
  },
  {
   "cell_type": "code",
   "execution_count": 374,
   "metadata": {},
   "outputs": [
    {
     "data": {
      "text/plain": [
       "age                              0.000000\n",
       "gender                           0.000000\n",
       "region_category                 14.673443\n",
       "membership_category              0.000000\n",
       "joined_through_referral          0.000000\n",
       "preferred_offer_types            0.778547\n",
       "medium_of_operation              0.000000\n",
       "internet_option                  0.000000\n",
       "days_since_last_login            0.000000\n",
       "avg_time_spent                   0.000000\n",
       "avg_transaction_value            0.000000\n",
       "avg_frequency_login_days         0.000000\n",
       "points_in_wallet                 9.307418\n",
       "used_special_discount            0.000000\n",
       "offer_application_preference     0.000000\n",
       "past_complaint                   0.000000\n",
       "complaint_status                 0.000000\n",
       "feedback                         0.000000\n",
       "churn_risk_score                 0.000000\n",
       "dtype: float64"
      ]
     },
     "execution_count": 374,
     "metadata": {},
     "output_type": "execute_result"
    }
   ],
   "source": [
    "# checking for NaN or Null values in the dataest\n",
    "df1.isnull().sum() / df.shape[0] * 100"
   ]
  },
  {
   "cell_type": "code",
   "execution_count": 94,
   "metadata": {},
   "outputs": [
    {
     "data": {
      "text/plain": [
       "(36992, 19)"
      ]
     },
     "execution_count": 94,
     "metadata": {},
     "output_type": "execute_result"
    }
   ],
   "source": [
    "# Shape of dataset\n",
    "df1.shape"
   ]
  },
  {
   "cell_type": "code",
   "execution_count": 101,
   "metadata": {},
   "outputs": [
    {
     "data": {
      "text/plain": [
       "(36992, 49)"
      ]
     },
     "execution_count": 101,
     "metadata": {},
     "output_type": "execute_result"
    }
   ],
   "source": [
    "# Converting Categorical columns into Nominal using get_dummies()\n",
    "df2 = pd.get_dummies(df1)\n",
    "df2.shape"
   ]
  },
  {
   "cell_type": "code",
   "execution_count": 375,
   "metadata": {},
   "outputs": [
    {
     "name": "stdout",
     "output_type": "stream",
     "text": [
      "<class 'pandas.core.frame.DataFrame'>\n",
      "RangeIndex: 36992 entries, 0 to 36991\n",
      "Data columns (total 49 columns):\n",
      " #   Column                                          Non-Null Count  Dtype  \n",
      "---  ------                                          --------------  -----  \n",
      " 0   age                                             36992 non-null  int64  \n",
      " 1   days_since_last_login                           36992 non-null  int64  \n",
      " 2   avg_time_spent                                  36992 non-null  float64\n",
      " 3   avg_transaction_value                           36992 non-null  float64\n",
      " 4   avg_frequency_login_days                        33470 non-null  float64\n",
      " 5   points_in_wallet                                33549 non-null  float64\n",
      " 6   churn_risk_score                                36992 non-null  int64  \n",
      " 7   gender_F                                        36992 non-null  uint8  \n",
      " 8   gender_M                                        36992 non-null  uint8  \n",
      " 9   region_category_City                            36992 non-null  uint8  \n",
      " 10  region_category_Town                            36992 non-null  uint8  \n",
      " 11  region_category_Village                         36992 non-null  uint8  \n",
      " 12  membership_category_Basic Membership            36992 non-null  uint8  \n",
      " 13  membership_category_Gold Membership             36992 non-null  uint8  \n",
      " 14  membership_category_No Membership               36992 non-null  uint8  \n",
      " 15  membership_category_Platinum Membership         36992 non-null  uint8  \n",
      " 16  membership_category_Premium Membership          36992 non-null  uint8  \n",
      " 17  membership_category_Silver Membership           36992 non-null  uint8  \n",
      " 18  joined_through_referral_No                      36992 non-null  uint8  \n",
      " 19  joined_through_referral_Yes                     36992 non-null  uint8  \n",
      " 20  preferred_offer_types_Credit/Debit Card Offers  36992 non-null  uint8  \n",
      " 21  preferred_offer_types_Gift Vouchers/Coupons     36992 non-null  uint8  \n",
      " 22  preferred_offer_types_Without Offers            36992 non-null  uint8  \n",
      " 23  medium_of_operation_Both                        36992 non-null  uint8  \n",
      " 24  medium_of_operation_Desktop                     36992 non-null  uint8  \n",
      " 25  medium_of_operation_Smartphone                  36992 non-null  uint8  \n",
      " 26  internet_option_Fiber_Optic                     36992 non-null  uint8  \n",
      " 27  internet_option_Mobile_Data                     36992 non-null  uint8  \n",
      " 28  internet_option_Wi-Fi                           36992 non-null  uint8  \n",
      " 29  used_special_discount_No                        36992 non-null  uint8  \n",
      " 30  used_special_discount_Yes                       36992 non-null  uint8  \n",
      " 31  offer_application_preference_No                 36992 non-null  uint8  \n",
      " 32  offer_application_preference_Yes                36992 non-null  uint8  \n",
      " 33  past_complaint_No                               36992 non-null  uint8  \n",
      " 34  past_complaint_Yes                              36992 non-null  uint8  \n",
      " 35  complaint_status_No Information Available       36992 non-null  uint8  \n",
      " 36  complaint_status_Not Applicable                 36992 non-null  uint8  \n",
      " 37  complaint_status_Solved                         36992 non-null  uint8  \n",
      " 38  complaint_status_Solved in Follow-up            36992 non-null  uint8  \n",
      " 39  complaint_status_Unsolved                       36992 non-null  uint8  \n",
      " 40  feedback_No reason specified                    36992 non-null  uint8  \n",
      " 41  feedback_Poor Customer Service                  36992 non-null  uint8  \n",
      " 42  feedback_Poor Product Quality                   36992 non-null  uint8  \n",
      " 43  feedback_Poor Website                           36992 non-null  uint8  \n",
      " 44  feedback_Products always in Stock               36992 non-null  uint8  \n",
      " 45  feedback_Quality Customer Care                  36992 non-null  uint8  \n",
      " 46  feedback_Reasonable Price                       36992 non-null  uint8  \n",
      " 47  feedback_Too many ads                           36992 non-null  uint8  \n",
      " 48  feedback_User Friendly Website                  36992 non-null  uint8  \n",
      "dtypes: float64(4), int64(3), uint8(42)\n",
      "memory usage: 3.5 MB\n"
     ]
    }
   ],
   "source": [
    "df2.info()"
   ]
  },
  {
   "cell_type": "code",
   "execution_count": 233,
   "metadata": {},
   "outputs": [
    {
     "data": {
      "text/plain": [
       " 3    10424\n",
       " 4    10185\n",
       " 5     9827\n",
       " 2     2741\n",
       " 1     2652\n",
       "-1     1163\n",
       "Name: churn_risk_score, dtype: int64"
      ]
     },
     "execution_count": 233,
     "metadata": {},
     "output_type": "execute_result"
    }
   ],
   "source": [
    "# Check classes in the Dependent variable\n",
    "df2['churn_risk_score'].value_counts()"
   ]
  },
  {
   "cell_type": "code",
   "execution_count": 376,
   "metadata": {},
   "outputs": [
    {
     "data": {
      "text/html": [
       "<div>\n",
       "<style scoped>\n",
       "    .dataframe tbody tr th:only-of-type {\n",
       "        vertical-align: middle;\n",
       "    }\n",
       "\n",
       "    .dataframe tbody tr th {\n",
       "        vertical-align: top;\n",
       "    }\n",
       "\n",
       "    .dataframe thead th {\n",
       "        text-align: right;\n",
       "    }\n",
       "</style>\n",
       "<table border=\"1\" class=\"dataframe\">\n",
       "  <thead>\n",
       "    <tr style=\"text-align: right;\">\n",
       "      <th></th>\n",
       "      <th>age</th>\n",
       "      <th>days_since_last_login</th>\n",
       "      <th>avg_time_spent</th>\n",
       "      <th>avg_transaction_value</th>\n",
       "      <th>avg_frequency_login_days</th>\n",
       "      <th>points_in_wallet</th>\n",
       "      <th>churn_risk_score</th>\n",
       "      <th>gender_F</th>\n",
       "      <th>gender_M</th>\n",
       "      <th>region_category_City</th>\n",
       "      <th>...</th>\n",
       "      <th>complaint_status_Unsolved</th>\n",
       "      <th>feedback_No reason specified</th>\n",
       "      <th>feedback_Poor Customer Service</th>\n",
       "      <th>feedback_Poor Product Quality</th>\n",
       "      <th>feedback_Poor Website</th>\n",
       "      <th>feedback_Products always in Stock</th>\n",
       "      <th>feedback_Quality Customer Care</th>\n",
       "      <th>feedback_Reasonable Price</th>\n",
       "      <th>feedback_Too many ads</th>\n",
       "      <th>feedback_User Friendly Website</th>\n",
       "    </tr>\n",
       "  </thead>\n",
       "  <tbody>\n",
       "    <tr>\n",
       "      <th>0</th>\n",
       "      <td>18.0</td>\n",
       "      <td>17.0</td>\n",
       "      <td>300.63</td>\n",
       "      <td>53005.25</td>\n",
       "      <td>17.0</td>\n",
       "      <td>781.750000</td>\n",
       "      <td>2.0</td>\n",
       "      <td>1.0</td>\n",
       "      <td>0.0</td>\n",
       "      <td>0.0</td>\n",
       "      <td>...</td>\n",
       "      <td>0.0</td>\n",
       "      <td>0.0</td>\n",
       "      <td>0.0</td>\n",
       "      <td>0.0</td>\n",
       "      <td>0.0</td>\n",
       "      <td>1.0</td>\n",
       "      <td>0.0</td>\n",
       "      <td>0.0</td>\n",
       "      <td>0.0</td>\n",
       "      <td>0.0</td>\n",
       "    </tr>\n",
       "    <tr>\n",
       "      <th>1</th>\n",
       "      <td>32.0</td>\n",
       "      <td>16.0</td>\n",
       "      <td>306.34</td>\n",
       "      <td>12838.38</td>\n",
       "      <td>10.0</td>\n",
       "      <td>792.958616</td>\n",
       "      <td>1.0</td>\n",
       "      <td>1.0</td>\n",
       "      <td>0.0</td>\n",
       "      <td>1.0</td>\n",
       "      <td>...</td>\n",
       "      <td>0.0</td>\n",
       "      <td>0.0</td>\n",
       "      <td>0.0</td>\n",
       "      <td>0.0</td>\n",
       "      <td>0.0</td>\n",
       "      <td>0.0</td>\n",
       "      <td>1.0</td>\n",
       "      <td>0.0</td>\n",
       "      <td>0.0</td>\n",
       "      <td>0.0</td>\n",
       "    </tr>\n",
       "    <tr>\n",
       "      <th>2</th>\n",
       "      <td>44.0</td>\n",
       "      <td>14.0</td>\n",
       "      <td>516.16</td>\n",
       "      <td>21027.00</td>\n",
       "      <td>22.0</td>\n",
       "      <td>500.690000</td>\n",
       "      <td>5.0</td>\n",
       "      <td>1.0</td>\n",
       "      <td>0.0</td>\n",
       "      <td>0.0</td>\n",
       "      <td>...</td>\n",
       "      <td>0.0</td>\n",
       "      <td>0.0</td>\n",
       "      <td>0.0</td>\n",
       "      <td>0.0</td>\n",
       "      <td>1.0</td>\n",
       "      <td>0.0</td>\n",
       "      <td>0.0</td>\n",
       "      <td>0.0</td>\n",
       "      <td>0.0</td>\n",
       "      <td>0.0</td>\n",
       "    </tr>\n",
       "    <tr>\n",
       "      <th>3</th>\n",
       "      <td>37.0</td>\n",
       "      <td>11.0</td>\n",
       "      <td>53.27</td>\n",
       "      <td>25239.56</td>\n",
       "      <td>6.0</td>\n",
       "      <td>567.660000</td>\n",
       "      <td>5.0</td>\n",
       "      <td>0.0</td>\n",
       "      <td>1.0</td>\n",
       "      <td>1.0</td>\n",
       "      <td>...</td>\n",
       "      <td>1.0</td>\n",
       "      <td>0.0</td>\n",
       "      <td>0.0</td>\n",
       "      <td>0.0</td>\n",
       "      <td>1.0</td>\n",
       "      <td>0.0</td>\n",
       "      <td>0.0</td>\n",
       "      <td>0.0</td>\n",
       "      <td>0.0</td>\n",
       "      <td>0.0</td>\n",
       "    </tr>\n",
       "    <tr>\n",
       "      <th>4</th>\n",
       "      <td>31.0</td>\n",
       "      <td>20.0</td>\n",
       "      <td>113.13</td>\n",
       "      <td>24483.66</td>\n",
       "      <td>16.0</td>\n",
       "      <td>663.060000</td>\n",
       "      <td>5.0</td>\n",
       "      <td>1.0</td>\n",
       "      <td>0.0</td>\n",
       "      <td>1.0</td>\n",
       "      <td>...</td>\n",
       "      <td>0.0</td>\n",
       "      <td>0.0</td>\n",
       "      <td>0.0</td>\n",
       "      <td>0.0</td>\n",
       "      <td>1.0</td>\n",
       "      <td>0.0</td>\n",
       "      <td>0.0</td>\n",
       "      <td>0.0</td>\n",
       "      <td>0.0</td>\n",
       "      <td>0.0</td>\n",
       "    </tr>\n",
       "  </tbody>\n",
       "</table>\n",
       "<p>5 rows × 49 columns</p>\n",
       "</div>"
      ],
      "text/plain": [
       "    age  days_since_last_login  avg_time_spent  avg_transaction_value  \\\n",
       "0  18.0                   17.0          300.63               53005.25   \n",
       "1  32.0                   16.0          306.34               12838.38   \n",
       "2  44.0                   14.0          516.16               21027.00   \n",
       "3  37.0                   11.0           53.27               25239.56   \n",
       "4  31.0                   20.0          113.13               24483.66   \n",
       "\n",
       "   avg_frequency_login_days  points_in_wallet  churn_risk_score  gender_F  \\\n",
       "0                      17.0        781.750000               2.0       1.0   \n",
       "1                      10.0        792.958616               1.0       1.0   \n",
       "2                      22.0        500.690000               5.0       1.0   \n",
       "3                       6.0        567.660000               5.0       0.0   \n",
       "4                      16.0        663.060000               5.0       1.0   \n",
       "\n",
       "   gender_M  region_category_City  ...  complaint_status_Unsolved  \\\n",
       "0       0.0                   0.0  ...                        0.0   \n",
       "1       0.0                   1.0  ...                        0.0   \n",
       "2       0.0                   0.0  ...                        0.0   \n",
       "3       1.0                   1.0  ...                        1.0   \n",
       "4       0.0                   1.0  ...                        0.0   \n",
       "\n",
       "   feedback_No reason specified  feedback_Poor Customer Service  \\\n",
       "0                           0.0                             0.0   \n",
       "1                           0.0                             0.0   \n",
       "2                           0.0                             0.0   \n",
       "3                           0.0                             0.0   \n",
       "4                           0.0                             0.0   \n",
       "\n",
       "   feedback_Poor Product Quality  feedback_Poor Website  \\\n",
       "0                            0.0                    0.0   \n",
       "1                            0.0                    0.0   \n",
       "2                            0.0                    1.0   \n",
       "3                            0.0                    1.0   \n",
       "4                            0.0                    1.0   \n",
       "\n",
       "   feedback_Products always in Stock  feedback_Quality Customer Care  \\\n",
       "0                                1.0                             0.0   \n",
       "1                                0.0                             1.0   \n",
       "2                                0.0                             0.0   \n",
       "3                                0.0                             0.0   \n",
       "4                                0.0                             0.0   \n",
       "\n",
       "   feedback_Reasonable Price  feedback_Too many ads  \\\n",
       "0                        0.0                    0.0   \n",
       "1                        0.0                    0.0   \n",
       "2                        0.0                    0.0   \n",
       "3                        0.0                    0.0   \n",
       "4                        0.0                    0.0   \n",
       "\n",
       "   feedback_User Friendly Website  \n",
       "0                             0.0  \n",
       "1                             0.0  \n",
       "2                             0.0  \n",
       "3                             0.0  \n",
       "4                             0.0  \n",
       "\n",
       "[5 rows x 49 columns]"
      ]
     },
     "execution_count": 376,
     "metadata": {},
     "output_type": "execute_result"
    }
   ],
   "source": [
    "# All NaN or Null values are Imputed using Iterative Imputer by taking LinearRegression as base estimator\n",
    "from sklearn.experimental import enable_iterative_imputer\n",
    "# now you can import normally from sklearn.impute\n",
    "from sklearn.impute import IterativeImputer\n",
    "from sklearn.linear_model import LinearRegression\n",
    "\n",
    "it = IterativeImputer(estimator=LinearRegression())\n",
    "newdata = pd.DataFrame(it.fit_transform(df2))\n",
    "newdata.columns = df2.columns\n",
    "newdata.head()"
   ]
  },
  {
   "cell_type": "code",
   "execution_count": 182,
   "metadata": {},
   "outputs": [
    {
     "data": {
      "text/plain": [
       "0"
      ]
     },
     "execution_count": 182,
     "metadata": {},
     "output_type": "execute_result"
    }
   ],
   "source": [
    "# Check null values count\n",
    "newdata.isnull().sum().sum()"
   ]
  },
  {
   "cell_type": "code",
   "execution_count": 108,
   "metadata": {},
   "outputs": [
    {
     "data": {
      "text/html": [
       "<div>\n",
       "<style scoped>\n",
       "    .dataframe tbody tr th:only-of-type {\n",
       "        vertical-align: middle;\n",
       "    }\n",
       "\n",
       "    .dataframe tbody tr th {\n",
       "        vertical-align: top;\n",
       "    }\n",
       "\n",
       "    .dataframe thead th {\n",
       "        text-align: right;\n",
       "    }\n",
       "</style>\n",
       "<table border=\"1\" class=\"dataframe\">\n",
       "  <thead>\n",
       "    <tr style=\"text-align: right;\">\n",
       "      <th></th>\n",
       "      <th>age</th>\n",
       "      <th>days_since_last_login</th>\n",
       "      <th>avg_time_spent</th>\n",
       "      <th>avg_transaction_value</th>\n",
       "      <th>avg_frequency_login_days</th>\n",
       "      <th>points_in_wallet</th>\n",
       "      <th>churn_risk_score</th>\n",
       "      <th>gender_F</th>\n",
       "      <th>gender_M</th>\n",
       "      <th>region_category_City</th>\n",
       "      <th>...</th>\n",
       "      <th>complaint_status_Unsolved</th>\n",
       "      <th>feedback_No reason specified</th>\n",
       "      <th>feedback_Poor Customer Service</th>\n",
       "      <th>feedback_Poor Product Quality</th>\n",
       "      <th>feedback_Poor Website</th>\n",
       "      <th>feedback_Products always in Stock</th>\n",
       "      <th>feedback_Quality Customer Care</th>\n",
       "      <th>feedback_Reasonable Price</th>\n",
       "      <th>feedback_Too many ads</th>\n",
       "      <th>feedback_User Friendly Website</th>\n",
       "    </tr>\n",
       "  </thead>\n",
       "  <tbody>\n",
       "    <tr>\n",
       "      <th>count</th>\n",
       "      <td>36992.000000</td>\n",
       "      <td>36992.000000</td>\n",
       "      <td>36992.000000</td>\n",
       "      <td>36992.000000</td>\n",
       "      <td>36992.000000</td>\n",
       "      <td>36992.000000</td>\n",
       "      <td>36992.000000</td>\n",
       "      <td>36992.000000</td>\n",
       "      <td>36992.000000</td>\n",
       "      <td>36992.000000</td>\n",
       "      <td>...</td>\n",
       "      <td>36992.000000</td>\n",
       "      <td>36992.000000</td>\n",
       "      <td>36992.000000</td>\n",
       "      <td>36992.000000</td>\n",
       "      <td>36992.000000</td>\n",
       "      <td>36992.000000</td>\n",
       "      <td>36992.000000</td>\n",
       "      <td>36992.000000</td>\n",
       "      <td>36992.000000</td>\n",
       "      <td>36992.000000</td>\n",
       "    </tr>\n",
       "    <tr>\n",
       "      <th>mean</th>\n",
       "      <td>37.118161</td>\n",
       "      <td>-41.915576</td>\n",
       "      <td>243.472334</td>\n",
       "      <td>29271.194003</td>\n",
       "      <td>15.975250</td>\n",
       "      <td>686.817835</td>\n",
       "      <td>3.463397</td>\n",
       "      <td>0.499838</td>\n",
       "      <td>0.498567</td>\n",
       "      <td>0.344318</td>\n",
       "      <td>...</td>\n",
       "      <td>0.125541</td>\n",
       "      <td>0.170037</td>\n",
       "      <td>0.169010</td>\n",
       "      <td>0.171659</td>\n",
       "      <td>0.169523</td>\n",
       "      <td>0.037359</td>\n",
       "      <td>0.036765</td>\n",
       "      <td>0.038306</td>\n",
       "      <td>0.169739</td>\n",
       "      <td>0.037603</td>\n",
       "    </tr>\n",
       "    <tr>\n",
       "      <th>std</th>\n",
       "      <td>15.867412</td>\n",
       "      <td>228.819900</td>\n",
       "      <td>398.289149</td>\n",
       "      <td>19444.806226</td>\n",
       "      <td>8.800295</td>\n",
       "      <td>185.754718</td>\n",
       "      <td>1.409661</td>\n",
       "      <td>0.500007</td>\n",
       "      <td>0.500005</td>\n",
       "      <td>0.475152</td>\n",
       "      <td>...</td>\n",
       "      <td>0.331335</td>\n",
       "      <td>0.375670</td>\n",
       "      <td>0.374765</td>\n",
       "      <td>0.377089</td>\n",
       "      <td>0.375218</td>\n",
       "      <td>0.189644</td>\n",
       "      <td>0.188186</td>\n",
       "      <td>0.191936</td>\n",
       "      <td>0.375409</td>\n",
       "      <td>0.190236</td>\n",
       "    </tr>\n",
       "    <tr>\n",
       "      <th>min</th>\n",
       "      <td>10.000000</td>\n",
       "      <td>-999.000000</td>\n",
       "      <td>-2814.109110</td>\n",
       "      <td>800.460000</td>\n",
       "      <td>-43.652702</td>\n",
       "      <td>-760.661236</td>\n",
       "      <td>-1.000000</td>\n",
       "      <td>0.000000</td>\n",
       "      <td>0.000000</td>\n",
       "      <td>0.000000</td>\n",
       "      <td>...</td>\n",
       "      <td>0.000000</td>\n",
       "      <td>0.000000</td>\n",
       "      <td>0.000000</td>\n",
       "      <td>0.000000</td>\n",
       "      <td>0.000000</td>\n",
       "      <td>0.000000</td>\n",
       "      <td>0.000000</td>\n",
       "      <td>0.000000</td>\n",
       "      <td>0.000000</td>\n",
       "      <td>0.000000</td>\n",
       "    </tr>\n",
       "    <tr>\n",
       "      <th>25%</th>\n",
       "      <td>23.000000</td>\n",
       "      <td>8.000000</td>\n",
       "      <td>60.102500</td>\n",
       "      <td>14177.540000</td>\n",
       "      <td>10.000000</td>\n",
       "      <td>617.385000</td>\n",
       "      <td>3.000000</td>\n",
       "      <td>0.000000</td>\n",
       "      <td>0.000000</td>\n",
       "      <td>0.000000</td>\n",
       "      <td>...</td>\n",
       "      <td>0.000000</td>\n",
       "      <td>0.000000</td>\n",
       "      <td>0.000000</td>\n",
       "      <td>0.000000</td>\n",
       "      <td>0.000000</td>\n",
       "      <td>0.000000</td>\n",
       "      <td>0.000000</td>\n",
       "      <td>0.000000</td>\n",
       "      <td>0.000000</td>\n",
       "      <td>0.000000</td>\n",
       "    </tr>\n",
       "    <tr>\n",
       "      <th>50%</th>\n",
       "      <td>37.000000</td>\n",
       "      <td>12.000000</td>\n",
       "      <td>161.765000</td>\n",
       "      <td>27554.485000</td>\n",
       "      <td>16.581608</td>\n",
       "      <td>698.855000</td>\n",
       "      <td>4.000000</td>\n",
       "      <td>0.000000</td>\n",
       "      <td>0.000000</td>\n",
       "      <td>0.000000</td>\n",
       "      <td>...</td>\n",
       "      <td>0.000000</td>\n",
       "      <td>0.000000</td>\n",
       "      <td>0.000000</td>\n",
       "      <td>0.000000</td>\n",
       "      <td>0.000000</td>\n",
       "      <td>0.000000</td>\n",
       "      <td>0.000000</td>\n",
       "      <td>0.000000</td>\n",
       "      <td>0.000000</td>\n",
       "      <td>0.000000</td>\n",
       "    </tr>\n",
       "    <tr>\n",
       "      <th>75%</th>\n",
       "      <td>51.000000</td>\n",
       "      <td>16.000000</td>\n",
       "      <td>356.515000</td>\n",
       "      <td>40855.110000</td>\n",
       "      <td>22.000000</td>\n",
       "      <td>760.472500</td>\n",
       "      <td>5.000000</td>\n",
       "      <td>1.000000</td>\n",
       "      <td>1.000000</td>\n",
       "      <td>1.000000</td>\n",
       "      <td>...</td>\n",
       "      <td>0.000000</td>\n",
       "      <td>0.000000</td>\n",
       "      <td>0.000000</td>\n",
       "      <td>0.000000</td>\n",
       "      <td>0.000000</td>\n",
       "      <td>0.000000</td>\n",
       "      <td>0.000000</td>\n",
       "      <td>0.000000</td>\n",
       "      <td>0.000000</td>\n",
       "      <td>0.000000</td>\n",
       "    </tr>\n",
       "    <tr>\n",
       "      <th>max</th>\n",
       "      <td>64.000000</td>\n",
       "      <td>26.000000</td>\n",
       "      <td>3235.578521</td>\n",
       "      <td>99914.050000</td>\n",
       "      <td>73.061995</td>\n",
       "      <td>2069.069761</td>\n",
       "      <td>5.000000</td>\n",
       "      <td>1.000000</td>\n",
       "      <td>1.000000</td>\n",
       "      <td>1.000000</td>\n",
       "      <td>...</td>\n",
       "      <td>1.000000</td>\n",
       "      <td>1.000000</td>\n",
       "      <td>1.000000</td>\n",
       "      <td>1.000000</td>\n",
       "      <td>1.000000</td>\n",
       "      <td>1.000000</td>\n",
       "      <td>1.000000</td>\n",
       "      <td>1.000000</td>\n",
       "      <td>1.000000</td>\n",
       "      <td>1.000000</td>\n",
       "    </tr>\n",
       "  </tbody>\n",
       "</table>\n",
       "<p>8 rows × 49 columns</p>\n",
       "</div>"
      ],
      "text/plain": [
       "                age  days_since_last_login  avg_time_spent  \\\n",
       "count  36992.000000           36992.000000    36992.000000   \n",
       "mean      37.118161             -41.915576      243.472334   \n",
       "std       15.867412             228.819900      398.289149   \n",
       "min       10.000000            -999.000000    -2814.109110   \n",
       "25%       23.000000               8.000000       60.102500   \n",
       "50%       37.000000              12.000000      161.765000   \n",
       "75%       51.000000              16.000000      356.515000   \n",
       "max       64.000000              26.000000     3235.578521   \n",
       "\n",
       "       avg_transaction_value  avg_frequency_login_days  points_in_wallet  \\\n",
       "count           36992.000000              36992.000000      36992.000000   \n",
       "mean            29271.194003                 15.975250        686.817835   \n",
       "std             19444.806226                  8.800295        185.754718   \n",
       "min               800.460000                -43.652702       -760.661236   \n",
       "25%             14177.540000                 10.000000        617.385000   \n",
       "50%             27554.485000                 16.581608        698.855000   \n",
       "75%             40855.110000                 22.000000        760.472500   \n",
       "max             99914.050000                 73.061995       2069.069761   \n",
       "\n",
       "       churn_risk_score      gender_F      gender_M  region_category_City  \\\n",
       "count      36992.000000  36992.000000  36992.000000          36992.000000   \n",
       "mean           3.463397      0.499838      0.498567              0.344318   \n",
       "std            1.409661      0.500007      0.500005              0.475152   \n",
       "min           -1.000000      0.000000      0.000000              0.000000   \n",
       "25%            3.000000      0.000000      0.000000              0.000000   \n",
       "50%            4.000000      0.000000      0.000000              0.000000   \n",
       "75%            5.000000      1.000000      1.000000              1.000000   \n",
       "max            5.000000      1.000000      1.000000              1.000000   \n",
       "\n",
       "       ...  complaint_status_Unsolved  feedback_No reason specified  \\\n",
       "count  ...               36992.000000                  36992.000000   \n",
       "mean   ...                   0.125541                      0.170037   \n",
       "std    ...                   0.331335                      0.375670   \n",
       "min    ...                   0.000000                      0.000000   \n",
       "25%    ...                   0.000000                      0.000000   \n",
       "50%    ...                   0.000000                      0.000000   \n",
       "75%    ...                   0.000000                      0.000000   \n",
       "max    ...                   1.000000                      1.000000   \n",
       "\n",
       "       feedback_Poor Customer Service  feedback_Poor Product Quality  \\\n",
       "count                    36992.000000                   36992.000000   \n",
       "mean                         0.169010                       0.171659   \n",
       "std                          0.374765                       0.377089   \n",
       "min                          0.000000                       0.000000   \n",
       "25%                          0.000000                       0.000000   \n",
       "50%                          0.000000                       0.000000   \n",
       "75%                          0.000000                       0.000000   \n",
       "max                          1.000000                       1.000000   \n",
       "\n",
       "       feedback_Poor Website  feedback_Products always in Stock  \\\n",
       "count           36992.000000                       36992.000000   \n",
       "mean                0.169523                           0.037359   \n",
       "std                 0.375218                           0.189644   \n",
       "min                 0.000000                           0.000000   \n",
       "25%                 0.000000                           0.000000   \n",
       "50%                 0.000000                           0.000000   \n",
       "75%                 0.000000                           0.000000   \n",
       "max                 1.000000                           1.000000   \n",
       "\n",
       "       feedback_Quality Customer Care  feedback_Reasonable Price  \\\n",
       "count                    36992.000000               36992.000000   \n",
       "mean                         0.036765                   0.038306   \n",
       "std                          0.188186                   0.191936   \n",
       "min                          0.000000                   0.000000   \n",
       "25%                          0.000000                   0.000000   \n",
       "50%                          0.000000                   0.000000   \n",
       "75%                          0.000000                   0.000000   \n",
       "max                          1.000000                   1.000000   \n",
       "\n",
       "       feedback_Too many ads  feedback_User Friendly Website  \n",
       "count           36992.000000                    36992.000000  \n",
       "mean                0.169739                        0.037603  \n",
       "std                 0.375409                        0.190236  \n",
       "min                 0.000000                        0.000000  \n",
       "25%                 0.000000                        0.000000  \n",
       "50%                 0.000000                        0.000000  \n",
       "75%                 0.000000                        0.000000  \n",
       "max                 1.000000                        1.000000  \n",
       "\n",
       "[8 rows x 49 columns]"
      ]
     },
     "execution_count": 108,
     "metadata": {},
     "output_type": "execute_result"
    }
   ],
   "source": [
    "# Camparing statistical summary for dataset before and after Iterative Imputation\n",
    "newdata.describe()"
   ]
  },
  {
   "cell_type": "code",
   "execution_count": 109,
   "metadata": {},
   "outputs": [
    {
     "data": {
      "text/html": [
       "<div>\n",
       "<style scoped>\n",
       "    .dataframe tbody tr th:only-of-type {\n",
       "        vertical-align: middle;\n",
       "    }\n",
       "\n",
       "    .dataframe tbody tr th {\n",
       "        vertical-align: top;\n",
       "    }\n",
       "\n",
       "    .dataframe thead th {\n",
       "        text-align: right;\n",
       "    }\n",
       "</style>\n",
       "<table border=\"1\" class=\"dataframe\">\n",
       "  <thead>\n",
       "    <tr style=\"text-align: right;\">\n",
       "      <th></th>\n",
       "      <th>age</th>\n",
       "      <th>days_since_last_login</th>\n",
       "      <th>avg_time_spent</th>\n",
       "      <th>avg_transaction_value</th>\n",
       "      <th>avg_frequency_login_days</th>\n",
       "      <th>points_in_wallet</th>\n",
       "      <th>churn_risk_score</th>\n",
       "      <th>gender_F</th>\n",
       "      <th>gender_M</th>\n",
       "      <th>region_category_City</th>\n",
       "      <th>...</th>\n",
       "      <th>complaint_status_Unsolved</th>\n",
       "      <th>feedback_No reason specified</th>\n",
       "      <th>feedback_Poor Customer Service</th>\n",
       "      <th>feedback_Poor Product Quality</th>\n",
       "      <th>feedback_Poor Website</th>\n",
       "      <th>feedback_Products always in Stock</th>\n",
       "      <th>feedback_Quality Customer Care</th>\n",
       "      <th>feedback_Reasonable Price</th>\n",
       "      <th>feedback_Too many ads</th>\n",
       "      <th>feedback_User Friendly Website</th>\n",
       "    </tr>\n",
       "  </thead>\n",
       "  <tbody>\n",
       "    <tr>\n",
       "      <th>count</th>\n",
       "      <td>36992.000000</td>\n",
       "      <td>36992.000000</td>\n",
       "      <td>36992.000000</td>\n",
       "      <td>36992.000000</td>\n",
       "      <td>33470.000000</td>\n",
       "      <td>33549.000000</td>\n",
       "      <td>36992.000000</td>\n",
       "      <td>36992.000000</td>\n",
       "      <td>36992.000000</td>\n",
       "      <td>36992.000000</td>\n",
       "      <td>...</td>\n",
       "      <td>36992.000000</td>\n",
       "      <td>36992.000000</td>\n",
       "      <td>36992.000000</td>\n",
       "      <td>36992.000000</td>\n",
       "      <td>36992.000000</td>\n",
       "      <td>36992.000000</td>\n",
       "      <td>36992.000000</td>\n",
       "      <td>36992.000000</td>\n",
       "      <td>36992.000000</td>\n",
       "      <td>36992.000000</td>\n",
       "    </tr>\n",
       "    <tr>\n",
       "      <th>mean</th>\n",
       "      <td>37.118161</td>\n",
       "      <td>-41.915576</td>\n",
       "      <td>243.472334</td>\n",
       "      <td>29271.194003</td>\n",
       "      <td>15.976715</td>\n",
       "      <td>686.882199</td>\n",
       "      <td>3.463397</td>\n",
       "      <td>0.499838</td>\n",
       "      <td>0.498567</td>\n",
       "      <td>0.344318</td>\n",
       "      <td>...</td>\n",
       "      <td>0.125541</td>\n",
       "      <td>0.170037</td>\n",
       "      <td>0.169010</td>\n",
       "      <td>0.171659</td>\n",
       "      <td>0.169523</td>\n",
       "      <td>0.037359</td>\n",
       "      <td>0.036765</td>\n",
       "      <td>0.038306</td>\n",
       "      <td>0.169739</td>\n",
       "      <td>0.037603</td>\n",
       "    </tr>\n",
       "    <tr>\n",
       "      <th>std</th>\n",
       "      <td>15.867412</td>\n",
       "      <td>228.819900</td>\n",
       "      <td>398.289149</td>\n",
       "      <td>19444.806226</td>\n",
       "      <td>9.215858</td>\n",
       "      <td>194.063624</td>\n",
       "      <td>1.409661</td>\n",
       "      <td>0.500007</td>\n",
       "      <td>0.500005</td>\n",
       "      <td>0.475152</td>\n",
       "      <td>...</td>\n",
       "      <td>0.331335</td>\n",
       "      <td>0.375670</td>\n",
       "      <td>0.374765</td>\n",
       "      <td>0.377089</td>\n",
       "      <td>0.375218</td>\n",
       "      <td>0.189644</td>\n",
       "      <td>0.188186</td>\n",
       "      <td>0.191936</td>\n",
       "      <td>0.375409</td>\n",
       "      <td>0.190236</td>\n",
       "    </tr>\n",
       "    <tr>\n",
       "      <th>min</th>\n",
       "      <td>10.000000</td>\n",
       "      <td>-999.000000</td>\n",
       "      <td>-2814.109110</td>\n",
       "      <td>800.460000</td>\n",
       "      <td>-43.652702</td>\n",
       "      <td>-760.661236</td>\n",
       "      <td>-1.000000</td>\n",
       "      <td>0.000000</td>\n",
       "      <td>0.000000</td>\n",
       "      <td>0.000000</td>\n",
       "      <td>...</td>\n",
       "      <td>0.000000</td>\n",
       "      <td>0.000000</td>\n",
       "      <td>0.000000</td>\n",
       "      <td>0.000000</td>\n",
       "      <td>0.000000</td>\n",
       "      <td>0.000000</td>\n",
       "      <td>0.000000</td>\n",
       "      <td>0.000000</td>\n",
       "      <td>0.000000</td>\n",
       "      <td>0.000000</td>\n",
       "    </tr>\n",
       "    <tr>\n",
       "      <th>25%</th>\n",
       "      <td>23.000000</td>\n",
       "      <td>8.000000</td>\n",
       "      <td>60.102500</td>\n",
       "      <td>14177.540000</td>\n",
       "      <td>9.000000</td>\n",
       "      <td>616.150000</td>\n",
       "      <td>3.000000</td>\n",
       "      <td>0.000000</td>\n",
       "      <td>0.000000</td>\n",
       "      <td>0.000000</td>\n",
       "      <td>...</td>\n",
       "      <td>0.000000</td>\n",
       "      <td>0.000000</td>\n",
       "      <td>0.000000</td>\n",
       "      <td>0.000000</td>\n",
       "      <td>0.000000</td>\n",
       "      <td>0.000000</td>\n",
       "      <td>0.000000</td>\n",
       "      <td>0.000000</td>\n",
       "      <td>0.000000</td>\n",
       "      <td>0.000000</td>\n",
       "    </tr>\n",
       "    <tr>\n",
       "      <th>50%</th>\n",
       "      <td>37.000000</td>\n",
       "      <td>12.000000</td>\n",
       "      <td>161.765000</td>\n",
       "      <td>27554.485000</td>\n",
       "      <td>16.000000</td>\n",
       "      <td>697.620000</td>\n",
       "      <td>4.000000</td>\n",
       "      <td>0.000000</td>\n",
       "      <td>0.000000</td>\n",
       "      <td>0.000000</td>\n",
       "      <td>...</td>\n",
       "      <td>0.000000</td>\n",
       "      <td>0.000000</td>\n",
       "      <td>0.000000</td>\n",
       "      <td>0.000000</td>\n",
       "      <td>0.000000</td>\n",
       "      <td>0.000000</td>\n",
       "      <td>0.000000</td>\n",
       "      <td>0.000000</td>\n",
       "      <td>0.000000</td>\n",
       "      <td>0.000000</td>\n",
       "    </tr>\n",
       "    <tr>\n",
       "      <th>75%</th>\n",
       "      <td>51.000000</td>\n",
       "      <td>16.000000</td>\n",
       "      <td>356.515000</td>\n",
       "      <td>40855.110000</td>\n",
       "      <td>23.000000</td>\n",
       "      <td>763.950000</td>\n",
       "      <td>5.000000</td>\n",
       "      <td>1.000000</td>\n",
       "      <td>1.000000</td>\n",
       "      <td>1.000000</td>\n",
       "      <td>...</td>\n",
       "      <td>0.000000</td>\n",
       "      <td>0.000000</td>\n",
       "      <td>0.000000</td>\n",
       "      <td>0.000000</td>\n",
       "      <td>0.000000</td>\n",
       "      <td>0.000000</td>\n",
       "      <td>0.000000</td>\n",
       "      <td>0.000000</td>\n",
       "      <td>0.000000</td>\n",
       "      <td>0.000000</td>\n",
       "    </tr>\n",
       "    <tr>\n",
       "      <th>max</th>\n",
       "      <td>64.000000</td>\n",
       "      <td>26.000000</td>\n",
       "      <td>3235.578521</td>\n",
       "      <td>99914.050000</td>\n",
       "      <td>73.061995</td>\n",
       "      <td>2069.069761</td>\n",
       "      <td>5.000000</td>\n",
       "      <td>1.000000</td>\n",
       "      <td>1.000000</td>\n",
       "      <td>1.000000</td>\n",
       "      <td>...</td>\n",
       "      <td>1.000000</td>\n",
       "      <td>1.000000</td>\n",
       "      <td>1.000000</td>\n",
       "      <td>1.000000</td>\n",
       "      <td>1.000000</td>\n",
       "      <td>1.000000</td>\n",
       "      <td>1.000000</td>\n",
       "      <td>1.000000</td>\n",
       "      <td>1.000000</td>\n",
       "      <td>1.000000</td>\n",
       "    </tr>\n",
       "  </tbody>\n",
       "</table>\n",
       "<p>8 rows × 49 columns</p>\n",
       "</div>"
      ],
      "text/plain": [
       "                age  days_since_last_login  avg_time_spent  \\\n",
       "count  36992.000000           36992.000000    36992.000000   \n",
       "mean      37.118161             -41.915576      243.472334   \n",
       "std       15.867412             228.819900      398.289149   \n",
       "min       10.000000            -999.000000    -2814.109110   \n",
       "25%       23.000000               8.000000       60.102500   \n",
       "50%       37.000000              12.000000      161.765000   \n",
       "75%       51.000000              16.000000      356.515000   \n",
       "max       64.000000              26.000000     3235.578521   \n",
       "\n",
       "       avg_transaction_value  avg_frequency_login_days  points_in_wallet  \\\n",
       "count           36992.000000              33470.000000      33549.000000   \n",
       "mean            29271.194003                 15.976715        686.882199   \n",
       "std             19444.806226                  9.215858        194.063624   \n",
       "min               800.460000                -43.652702       -760.661236   \n",
       "25%             14177.540000                  9.000000        616.150000   \n",
       "50%             27554.485000                 16.000000        697.620000   \n",
       "75%             40855.110000                 23.000000        763.950000   \n",
       "max             99914.050000                 73.061995       2069.069761   \n",
       "\n",
       "       churn_risk_score      gender_F      gender_M  region_category_City  \\\n",
       "count      36992.000000  36992.000000  36992.000000          36992.000000   \n",
       "mean           3.463397      0.499838      0.498567              0.344318   \n",
       "std            1.409661      0.500007      0.500005              0.475152   \n",
       "min           -1.000000      0.000000      0.000000              0.000000   \n",
       "25%            3.000000      0.000000      0.000000              0.000000   \n",
       "50%            4.000000      0.000000      0.000000              0.000000   \n",
       "75%            5.000000      1.000000      1.000000              1.000000   \n",
       "max            5.000000      1.000000      1.000000              1.000000   \n",
       "\n",
       "       ...  complaint_status_Unsolved  feedback_No reason specified  \\\n",
       "count  ...               36992.000000                  36992.000000   \n",
       "mean   ...                   0.125541                      0.170037   \n",
       "std    ...                   0.331335                      0.375670   \n",
       "min    ...                   0.000000                      0.000000   \n",
       "25%    ...                   0.000000                      0.000000   \n",
       "50%    ...                   0.000000                      0.000000   \n",
       "75%    ...                   0.000000                      0.000000   \n",
       "max    ...                   1.000000                      1.000000   \n",
       "\n",
       "       feedback_Poor Customer Service  feedback_Poor Product Quality  \\\n",
       "count                    36992.000000                   36992.000000   \n",
       "mean                         0.169010                       0.171659   \n",
       "std                          0.374765                       0.377089   \n",
       "min                          0.000000                       0.000000   \n",
       "25%                          0.000000                       0.000000   \n",
       "50%                          0.000000                       0.000000   \n",
       "75%                          0.000000                       0.000000   \n",
       "max                          1.000000                       1.000000   \n",
       "\n",
       "       feedback_Poor Website  feedback_Products always in Stock  \\\n",
       "count           36992.000000                       36992.000000   \n",
       "mean                0.169523                           0.037359   \n",
       "std                 0.375218                           0.189644   \n",
       "min                 0.000000                           0.000000   \n",
       "25%                 0.000000                           0.000000   \n",
       "50%                 0.000000                           0.000000   \n",
       "75%                 0.000000                           0.000000   \n",
       "max                 1.000000                           1.000000   \n",
       "\n",
       "       feedback_Quality Customer Care  feedback_Reasonable Price  \\\n",
       "count                    36992.000000               36992.000000   \n",
       "mean                         0.036765                   0.038306   \n",
       "std                          0.188186                   0.191936   \n",
       "min                          0.000000                   0.000000   \n",
       "25%                          0.000000                   0.000000   \n",
       "50%                          0.000000                   0.000000   \n",
       "75%                          0.000000                   0.000000   \n",
       "max                          1.000000                   1.000000   \n",
       "\n",
       "       feedback_Too many ads  feedback_User Friendly Website  \n",
       "count           36992.000000                    36992.000000  \n",
       "mean                0.169739                        0.037603  \n",
       "std                 0.375409                        0.190236  \n",
       "min                 0.000000                        0.000000  \n",
       "25%                 0.000000                        0.000000  \n",
       "50%                 0.000000                        0.000000  \n",
       "75%                 0.000000                        0.000000  \n",
       "max                 1.000000                        1.000000  \n",
       "\n",
       "[8 rows x 49 columns]"
      ]
     },
     "execution_count": 109,
     "metadata": {},
     "output_type": "execute_result"
    }
   ],
   "source": [
    "df2.describe()"
   ]
  },
  {
   "cell_type": "code",
   "execution_count": 110,
   "metadata": {},
   "outputs": [
    {
     "data": {
      "text/plain": [
       "Index(['age', 'days_since_last_login', 'avg_time_spent',\n",
       "       'avg_transaction_value', 'avg_frequency_login_days', 'points_in_wallet',\n",
       "       'churn_risk_score', 'gender_F', 'gender_M', 'region_category_City',\n",
       "       'region_category_Town', 'region_category_Village',\n",
       "       'membership_category_Basic Membership',\n",
       "       'membership_category_Gold Membership',\n",
       "       'membership_category_No Membership',\n",
       "       'membership_category_Platinum Membership',\n",
       "       'membership_category_Premium Membership',\n",
       "       'membership_category_Silver Membership', 'joined_through_referral_No',\n",
       "       'joined_through_referral_Yes',\n",
       "       'preferred_offer_types_Credit/Debit Card Offers',\n",
       "       'preferred_offer_types_Gift Vouchers/Coupons',\n",
       "       'preferred_offer_types_Without Offers', 'medium_of_operation_Both',\n",
       "       'medium_of_operation_Desktop', 'medium_of_operation_Smartphone',\n",
       "       'internet_option_Fiber_Optic', 'internet_option_Mobile_Data',\n",
       "       'internet_option_Wi-Fi', 'used_special_discount_No',\n",
       "       'used_special_discount_Yes', 'offer_application_preference_No',\n",
       "       'offer_application_preference_Yes', 'past_complaint_No',\n",
       "       'past_complaint_Yes', 'complaint_status_No Information Available',\n",
       "       'complaint_status_Not Applicable', 'complaint_status_Solved',\n",
       "       'complaint_status_Solved in Follow-up', 'complaint_status_Unsolved',\n",
       "       'feedback_No reason specified', 'feedback_Poor Customer Service',\n",
       "       'feedback_Poor Product Quality', 'feedback_Poor Website',\n",
       "       'feedback_Products always in Stock', 'feedback_Quality Customer Care',\n",
       "       'feedback_Reasonable Price', 'feedback_Too many ads',\n",
       "       'feedback_User Friendly Website'],\n",
       "      dtype='object')"
      ]
     },
     "execution_count": 110,
     "metadata": {},
     "output_type": "execute_result"
    }
   ],
   "source": [
    "newdata.columns"
   ]
  },
  {
   "cell_type": "code",
   "execution_count": 377,
   "metadata": {},
   "outputs": [
    {
     "data": {
      "text/plain": [
       "(36992, 49)"
      ]
     },
     "execution_count": 377,
     "metadata": {},
     "output_type": "execute_result"
    }
   ],
   "source": [
    "# Modified dataset shape\n",
    "newdata.shape"
   ]
  },
  {
   "cell_type": "markdown",
   "metadata": {},
   "source": [
    "# Using Lightgbm algorithm and Pipeline"
   ]
  },
  {
   "cell_type": "raw",
   "metadata": {},
   "source": [
    "- For making features normal distribution, PowerTransformer is used."
   ]
  },
  {
   "cell_type": "code",
   "execution_count": 378,
   "metadata": {},
   "outputs": [
    {
     "data": {
      "text/plain": [
       "(35829, 49)"
      ]
     },
     "execution_count": 378,
     "metadata": {},
     "output_type": "execute_result"
    }
   ],
   "source": [
    "# By ingoring '-1' class in dependent variable\n",
    "newdata = newdata[newdata['churn_risk_score']!= -1]\n",
    "newdata.shape"
   ]
  },
  {
   "cell_type": "code",
   "execution_count": 379,
   "metadata": {},
   "outputs": [
    {
     "name": "stdout",
     "output_type": "stream",
     "text": [
      "Training R2\n",
      "0.9440988835725678\n",
      "Testing R2\n",
      "0.8037026700158154\n"
     ]
    }
   ],
   "source": [
    "# With Pipeline with power train\n",
    "from sklearn.model_selection import train_test_split\n",
    "from sklearn.pipeline import Pipeline\n",
    "from sklearn.preprocessing import PowerTransformer\n",
    "import lightgbm as lgb\n",
    "\n",
    "y = newdata['churn_risk_score']\n",
    "X = newdata.drop('churn_risk_score', axis=1)\n",
    "Xtrain, Xtest, ytrain, ytest = train_test_split(X, y, test_size= .30,random_state=1)\n",
    "pipe = Pipeline((\n",
    "(\"pt\",PowerTransformer()),\n",
    "(\"lgb\", lgb.LGBMClassifier()),\n",
    "))\n",
    "pipe.fit(Xtrain,ytrain)\n",
    "print(\"Training R2\")\n",
    "print(pipe.score(Xtrain,ytrain))\n",
    "print(\"Testing R2\")\n",
    "print(pipe.score(Xtest,ytest))"
   ]
  },
  {
   "cell_type": "markdown",
   "metadata": {},
   "source": [
    "# Using Gradient Boosting Classifier algorithm and Pipeline"
   ]
  },
  {
   "cell_type": "code",
   "execution_count": 381,
   "metadata": {},
   "outputs": [
    {
     "data": {
      "text/plain": [
       "(35829, 49)"
      ]
     },
     "execution_count": 381,
     "metadata": {},
     "output_type": "execute_result"
    }
   ],
   "source": [
    "# By ingoring '-1' class in dependent variable\n",
    "df3 = df2[df2['churn_risk_score']!= -1]\n",
    "df3.shape"
   ]
  },
  {
   "cell_type": "code",
   "execution_count": 382,
   "metadata": {},
   "outputs": [
    {
     "name": "stdout",
     "output_type": "stream",
     "text": [
      "Training R2\n",
      "0.8163078149920255\n",
      "Testing R2\n",
      "0.7871429900455856\n"
     ]
    }
   ],
   "source": [
    "# With Pipeline with power train\n",
    "from sklearn.model_selection import train_test_split\n",
    "from sklearn.pipeline import Pipeline\n",
    "from sklearn.experimental import enable_iterative_imputer\n",
    "from sklearn.preprocessing import PowerTransformer\n",
    "from sklearn.ensemble import GradientBoostingClassifier\n",
    "\n",
    "y = df3['churn_risk_score']\n",
    "X = df3.drop('churn_risk_score', axis=1)\n",
    "Xtrain, Xtest, ytrain, ytest = train_test_split(X, y, test_size= .30,random_state=1)\n",
    "pipe = Pipeline((\n",
    "(\"it\",IterativeImputer(estimator=LinearRegression())),\n",
    "(\"pt\",PowerTransformer()),\n",
    "(\"gb\", GradientBoostingClassifier()),\n",
    "))\n",
    "pipe.fit(Xtrain,ytrain)\n",
    "print(\"Training R2\")\n",
    "print(pipe.score(Xtrain,ytrain))\n",
    "print(\"Testing R2\")\n",
    "print(pipe.score(Xtest,ytest))"
   ]
  },
  {
   "cell_type": "raw",
   "metadata": {},
   "source": [
    "# Inference\n",
    "\n",
    "- Using LightGBM algorithm, model is overfitting\n",
    "- Tried with GradientBoostingClassifier, model is performing better. Further Tunings will be done for this model only."
   ]
  },
  {
   "cell_type": "code",
   "execution_count": 383,
   "metadata": {},
   "outputs": [],
   "source": [
    "# Copied df2 dataframe as df3\n",
    "df3 = df2.copy()"
   ]
  },
  {
   "cell_type": "code",
   "execution_count": 384,
   "metadata": {},
   "outputs": [
    {
     "data": {
      "text/plain": [
       "3    10424\n",
       "4    10185\n",
       "5     9827\n",
       "1     3815\n",
       "2     2741\n",
       "Name: churn_risk_score, dtype: int64"
      ]
     },
     "execution_count": 384,
     "metadata": {},
     "output_type": "execute_result"
    }
   ],
   "source": [
    "# '-1' class is considered as '1' class and model is eveluating\n",
    "df3['churn_risk_score'].replace(-1,1, inplace=True)\n",
    "df3['churn_risk_score'].value_counts()"
   ]
  },
  {
   "cell_type": "code",
   "execution_count": 385,
   "metadata": {},
   "outputs": [
    {
     "name": "stdout",
     "output_type": "stream",
     "text": [
      "Training R2\n",
      "0.790105816019155\n",
      "Testing R2\n",
      "0.7704991890430708\n"
     ]
    }
   ],
   "source": [
    "# With Pipeline with power train\n",
    "from sklearn.model_selection import train_test_split\n",
    "from sklearn.pipeline import Pipeline\n",
    "from sklearn.experimental import enable_iterative_imputer\n",
    "from sklearn.preprocessing import PowerTransformer\n",
    "from sklearn.ensemble import GradientBoostingClassifier\n",
    "\n",
    "y = df3['churn_risk_score']\n",
    "X = df3.drop('churn_risk_score', axis=1)\n",
    "Xtrain, Xtest, ytrain, ytest = train_test_split(X, y, test_size= .30,random_state=1)\n",
    "pipe = Pipeline((\n",
    "(\"it\",IterativeImputer(estimator=LinearRegression())),\n",
    "(\"pt\",PowerTransformer()),\n",
    "(\"gb\", GradientBoostingClassifier()),\n",
    "))\n",
    "pipe.fit(Xtrain,ytrain)\n",
    "print(\"Training R2\")\n",
    "print(pipe.score(Xtrain,ytrain))\n",
    "print(\"Testing R2\")\n",
    "print(pipe.score(Xtest,ytest))"
   ]
  },
  {
   "cell_type": "code",
   "execution_count": null,
   "metadata": {},
   "outputs": [],
   "source": []
  },
  {
   "cell_type": "code",
   "execution_count": 386,
   "metadata": {},
   "outputs": [],
   "source": [
    "# Copied df2 dataframe as df3\n",
    "df4 = df2.copy()"
   ]
  },
  {
   "cell_type": "code",
   "execution_count": 387,
   "metadata": {},
   "outputs": [
    {
     "data": {
      "text/plain": [
       "5    10990\n",
       "3    10424\n",
       "4    10185\n",
       "2     2741\n",
       "1     2652\n",
       "Name: churn_risk_score, dtype: int64"
      ]
     },
     "execution_count": 387,
     "metadata": {},
     "output_type": "execute_result"
    }
   ],
   "source": [
    "# '-1' class is considered as '1' class and model is eveluating\n",
    "df4['churn_risk_score'].replace(-1,5, inplace=True)\n",
    "df4['churn_risk_score'].value_counts()"
   ]
  },
  {
   "cell_type": "code",
   "execution_count": 388,
   "metadata": {},
   "outputs": [
    {
     "name": "stdout",
     "output_type": "stream",
     "text": [
      "Training R2\n",
      "0.7946628562601374\n",
      "Testing R2\n",
      "0.780140565867724\n"
     ]
    }
   ],
   "source": [
    "# With Pipeline with power train\n",
    "from sklearn.model_selection import train_test_split\n",
    "from sklearn.pipeline import Pipeline\n",
    "from sklearn.preprocessing import PowerTransformer\n",
    "from sklearn.preprocessing import PolynomialFeatures\n",
    "from sklearn.decomposition import PCA\n",
    "import lightgbm as lgb\n",
    "from sklearn.ensemble import GradientBoostingClassifier\n",
    "\n",
    "y = df4['churn_risk_score']\n",
    "X = df4.drop('churn_risk_score', axis=1)\n",
    "Xtrain, Xtest, ytrain, ytest = train_test_split(X, y, test_size= .30,random_state=1)\n",
    "pipe = Pipeline((\n",
    "(\"it\",IterativeImputer(estimator=LinearRegression())),\n",
    "(\"pt\",PowerTransformer()),\n",
    "(\"gb\", GradientBoostingClassifier()),\n",
    "))\n",
    "pipe.fit(Xtrain,ytrain)\n",
    "print(\"Training R2\")\n",
    "print(pipe.score(Xtrain,ytrain))\n",
    "print(\"Testing R2\")\n",
    "print(pipe.score(Xtest,ytest))"
   ]
  },
  {
   "cell_type": "raw",
   "metadata": {},
   "source": [
    "- Hence model gives better perform best performance by removing '-1' class and good performace by making '-1' class as '1' class and moderatly good performance by making '5' class on Test dataset."
   ]
  },
  {
   "cell_type": "code",
   "execution_count": null,
   "metadata": {},
   "outputs": [],
   "source": []
  },
  {
   "cell_type": "code",
   "execution_count": 389,
   "metadata": {},
   "outputs": [
    {
     "name": "stdout",
     "output_type": "stream",
     "text": [
      "Training R2\n",
      "0.8044334594886846\n",
      "Testing R2\n",
      "0.7668949360245089\n"
     ]
    }
   ],
   "source": [
    "# Tuning the model by makung '1' class\n",
    "# With Pipeline with power train\n",
    "from sklearn.model_selection import train_test_split\n",
    "from sklearn.pipeline import Pipeline\n",
    "from sklearn.preprocessing import PowerTransformer\n",
    "from sklearn.preprocessing import PolynomialFeatures\n",
    "from sklearn.decomposition import PCA\n",
    "import lightgbm as lgb\n",
    "from sklearn.ensemble import GradientBoostingClassifier\n",
    "\n",
    "y = df3['churn_risk_score']\n",
    "X = df3.drop('churn_risk_score', axis=1)\n",
    "Xtrain, Xtest, ytrain, ytest = train_test_split(X, y, test_size= .30,random_state=1)\n",
    "pipe = Pipeline((\n",
    "(\"it\",IterativeImputer(estimator=LinearRegression())),\n",
    "(\"pt\",PowerTransformer()),\n",
    "(\"gb\", GradientBoostingClassifier(max_features='auto', n_estimators=150)),\n",
    "))\n",
    "pipe.fit(Xtrain,ytrain)\n",
    "print(\"Training R2\")\n",
    "print(pipe.score(Xtrain,ytrain))\n",
    "print(\"Testing R2\")\n",
    "print(pipe.score(Xtest,ytest))"
   ]
  },
  {
   "cell_type": "raw",
   "metadata": {},
   "source": [
    "- Model is not much improved.\n",
    "- Hence these models are taken further to fit on Actual test set and Results are evaluated below."
   ]
  },
  {
   "cell_type": "markdown",
   "metadata": {},
   "source": [
    "# Test set EDA and Model Evaluation"
   ]
  },
  {
   "cell_type": "code",
   "execution_count": 127,
   "metadata": {},
   "outputs": [
    {
     "data": {
      "text/html": [
       "<div>\n",
       "<style scoped>\n",
       "    .dataframe tbody tr th:only-of-type {\n",
       "        vertical-align: middle;\n",
       "    }\n",
       "\n",
       "    .dataframe tbody tr th {\n",
       "        vertical-align: top;\n",
       "    }\n",
       "\n",
       "    .dataframe thead th {\n",
       "        text-align: right;\n",
       "    }\n",
       "</style>\n",
       "<table border=\"1\" class=\"dataframe\">\n",
       "  <thead>\n",
       "    <tr style=\"text-align: right;\">\n",
       "      <th></th>\n",
       "      <th>customer_id</th>\n",
       "      <th>Name</th>\n",
       "      <th>age</th>\n",
       "      <th>gender</th>\n",
       "      <th>security_no</th>\n",
       "      <th>region_category</th>\n",
       "      <th>membership_category</th>\n",
       "      <th>joining_date</th>\n",
       "      <th>joined_through_referral</th>\n",
       "      <th>referral_id</th>\n",
       "      <th>...</th>\n",
       "      <th>days_since_last_login</th>\n",
       "      <th>avg_time_spent</th>\n",
       "      <th>avg_transaction_value</th>\n",
       "      <th>avg_frequency_login_days</th>\n",
       "      <th>points_in_wallet</th>\n",
       "      <th>used_special_discount</th>\n",
       "      <th>offer_application_preference</th>\n",
       "      <th>past_complaint</th>\n",
       "      <th>complaint_status</th>\n",
       "      <th>feedback</th>\n",
       "    </tr>\n",
       "  </thead>\n",
       "  <tbody>\n",
       "    <tr>\n",
       "      <th>0</th>\n",
       "      <td>fffe43004900440031003700300030003400</td>\n",
       "      <td>Alethia Meints</td>\n",
       "      <td>50</td>\n",
       "      <td>F</td>\n",
       "      <td>OQJ1XAY</td>\n",
       "      <td>Village</td>\n",
       "      <td>Premium Membership</td>\n",
       "      <td>2015-11-02</td>\n",
       "      <td>No</td>\n",
       "      <td>xxxxxxxx</td>\n",
       "      <td>...</td>\n",
       "      <td>12</td>\n",
       "      <td>386.26</td>\n",
       "      <td>40721.44</td>\n",
       "      <td>7.0</td>\n",
       "      <td>733.83</td>\n",
       "      <td>Yes</td>\n",
       "      <td>No</td>\n",
       "      <td>No</td>\n",
       "      <td>Not Applicable</td>\n",
       "      <td>Poor Product Quality</td>\n",
       "    </tr>\n",
       "    <tr>\n",
       "      <th>1</th>\n",
       "      <td>fffe43004900440031003900370037003300</td>\n",
       "      <td>Ming Lopez</td>\n",
       "      <td>41</td>\n",
       "      <td>M</td>\n",
       "      <td>OUQRPKO</td>\n",
       "      <td>Village</td>\n",
       "      <td>Gold Membership</td>\n",
       "      <td>2016-03-01</td>\n",
       "      <td>No</td>\n",
       "      <td>xxxxxxxx</td>\n",
       "      <td>...</td>\n",
       "      <td>11</td>\n",
       "      <td>37.80</td>\n",
       "      <td>9644.40</td>\n",
       "      <td>9.0</td>\n",
       "      <td>726.00</td>\n",
       "      <td>Yes</td>\n",
       "      <td>No</td>\n",
       "      <td>No</td>\n",
       "      <td>Not Applicable</td>\n",
       "      <td>Poor Website</td>\n",
       "    </tr>\n",
       "  </tbody>\n",
       "</table>\n",
       "<p>2 rows × 24 columns</p>\n",
       "</div>"
      ],
      "text/plain": [
       "                            customer_id            Name  age gender  \\\n",
       "0  fffe43004900440031003700300030003400  Alethia Meints   50      F   \n",
       "1  fffe43004900440031003900370037003300      Ming Lopez   41      M   \n",
       "\n",
       "  security_no region_category membership_category joining_date  \\\n",
       "0     OQJ1XAY         Village  Premium Membership   2015-11-02   \n",
       "1     OUQRPKO         Village     Gold Membership   2016-03-01   \n",
       "\n",
       "  joined_through_referral referral_id  ... days_since_last_login  \\\n",
       "0                      No    xxxxxxxx  ...                    12   \n",
       "1                      No    xxxxxxxx  ...                    11   \n",
       "\n",
       "  avg_time_spent avg_transaction_value avg_frequency_login_days  \\\n",
       "0         386.26              40721.44                      7.0   \n",
       "1          37.80               9644.40                      9.0   \n",
       "\n",
       "   points_in_wallet  used_special_discount  offer_application_preference  \\\n",
       "0            733.83                    Yes                            No   \n",
       "1            726.00                    Yes                            No   \n",
       "\n",
       "  past_complaint  complaint_status              feedback  \n",
       "0             No    Not Applicable  Poor Product Quality  \n",
       "1             No    Not Applicable          Poor Website  \n",
       "\n",
       "[2 rows x 24 columns]"
      ]
     },
     "execution_count": 127,
     "metadata": {},
     "output_type": "execute_result"
    }
   ],
   "source": [
    "test_df = pd.read_csv('test.csv')\n",
    "test_df.head(2)"
   ]
  },
  {
   "cell_type": "code",
   "execution_count": 128,
   "metadata": {},
   "outputs": [
    {
     "data": {
      "text/plain": [
       "(19919, 24)"
      ]
     },
     "execution_count": 128,
     "metadata": {},
     "output_type": "execute_result"
    }
   ],
   "source": [
    "test_df.shape"
   ]
  },
  {
   "cell_type": "code",
   "execution_count": 129,
   "metadata": {},
   "outputs": [
    {
     "data": {
      "text/html": [
       "<div>\n",
       "<style scoped>\n",
       "    .dataframe tbody tr th:only-of-type {\n",
       "        vertical-align: middle;\n",
       "    }\n",
       "\n",
       "    .dataframe tbody tr th {\n",
       "        vertical-align: top;\n",
       "    }\n",
       "\n",
       "    .dataframe thead th {\n",
       "        text-align: right;\n",
       "    }\n",
       "</style>\n",
       "<table border=\"1\" class=\"dataframe\">\n",
       "  <thead>\n",
       "    <tr style=\"text-align: right;\">\n",
       "      <th></th>\n",
       "      <th>age</th>\n",
       "      <th>gender</th>\n",
       "      <th>region_category</th>\n",
       "      <th>membership_category</th>\n",
       "      <th>joined_through_referral</th>\n",
       "      <th>preferred_offer_types</th>\n",
       "      <th>medium_of_operation</th>\n",
       "      <th>internet_option</th>\n",
       "      <th>days_since_last_login</th>\n",
       "      <th>avg_time_spent</th>\n",
       "      <th>avg_transaction_value</th>\n",
       "      <th>avg_frequency_login_days</th>\n",
       "      <th>points_in_wallet</th>\n",
       "      <th>used_special_discount</th>\n",
       "      <th>offer_application_preference</th>\n",
       "      <th>past_complaint</th>\n",
       "      <th>complaint_status</th>\n",
       "      <th>feedback</th>\n",
       "    </tr>\n",
       "  </thead>\n",
       "  <tbody>\n",
       "    <tr>\n",
       "      <th>0</th>\n",
       "      <td>50</td>\n",
       "      <td>F</td>\n",
       "      <td>Village</td>\n",
       "      <td>Premium Membership</td>\n",
       "      <td>No</td>\n",
       "      <td>Without Offers</td>\n",
       "      <td>Smartphone</td>\n",
       "      <td>Wi-Fi</td>\n",
       "      <td>12</td>\n",
       "      <td>386.26</td>\n",
       "      <td>40721.44</td>\n",
       "      <td>7.0</td>\n",
       "      <td>733.83</td>\n",
       "      <td>Yes</td>\n",
       "      <td>No</td>\n",
       "      <td>No</td>\n",
       "      <td>Not Applicable</td>\n",
       "      <td>Poor Product Quality</td>\n",
       "    </tr>\n",
       "    <tr>\n",
       "      <th>1</th>\n",
       "      <td>41</td>\n",
       "      <td>M</td>\n",
       "      <td>Village</td>\n",
       "      <td>Gold Membership</td>\n",
       "      <td>No</td>\n",
       "      <td>Without Offers</td>\n",
       "      <td>Desktop</td>\n",
       "      <td>Fiber_Optic</td>\n",
       "      <td>11</td>\n",
       "      <td>37.80</td>\n",
       "      <td>9644.40</td>\n",
       "      <td>9.0</td>\n",
       "      <td>726.00</td>\n",
       "      <td>Yes</td>\n",
       "      <td>No</td>\n",
       "      <td>No</td>\n",
       "      <td>Not Applicable</td>\n",
       "      <td>Poor Website</td>\n",
       "    </tr>\n",
       "  </tbody>\n",
       "</table>\n",
       "</div>"
      ],
      "text/plain": [
       "   age gender region_category membership_category joined_through_referral  \\\n",
       "0   50      F         Village  Premium Membership                      No   \n",
       "1   41      M         Village     Gold Membership                      No   \n",
       "\n",
       "  preferred_offer_types medium_of_operation internet_option  \\\n",
       "0        Without Offers          Smartphone           Wi-Fi   \n",
       "1        Without Offers             Desktop     Fiber_Optic   \n",
       "\n",
       "   days_since_last_login  avg_time_spent  avg_transaction_value  \\\n",
       "0                     12          386.26               40721.44   \n",
       "1                     11           37.80                9644.40   \n",
       "\n",
       "  avg_frequency_login_days  points_in_wallet used_special_discount  \\\n",
       "0                      7.0            733.83                   Yes   \n",
       "1                      9.0            726.00                   Yes   \n",
       "\n",
       "  offer_application_preference past_complaint complaint_status  \\\n",
       "0                           No             No   Not Applicable   \n",
       "1                           No             No   Not Applicable   \n",
       "\n",
       "               feedback  \n",
       "0  Poor Product Quality  \n",
       "1          Poor Website  "
      ]
     },
     "execution_count": 129,
     "metadata": {},
     "output_type": "execute_result"
    }
   ],
   "source": [
    "test_df = test_df.drop(['security_no','Name','referral_id','joining_date','last_visit_time','customer_id'], axis=1)\n",
    "test_df.head(2)"
   ]
  },
  {
   "cell_type": "code",
   "execution_count": 130,
   "metadata": {},
   "outputs": [
    {
     "name": "stdout",
     "output_type": "stream",
     "text": [
      "<class 'pandas.core.frame.DataFrame'>\n",
      "RangeIndex: 19919 entries, 0 to 19918\n",
      "Data columns (total 18 columns):\n",
      " #   Column                        Non-Null Count  Dtype  \n",
      "---  ------                        --------------  -----  \n",
      " 0   age                           19919 non-null  int64  \n",
      " 1   gender                        19919 non-null  object \n",
      " 2   region_category               16971 non-null  object \n",
      " 3   membership_category           19919 non-null  object \n",
      " 4   joined_through_referral       19919 non-null  object \n",
      " 5   preferred_offer_types         19760 non-null  object \n",
      " 6   medium_of_operation           19919 non-null  object \n",
      " 7   internet_option               19919 non-null  object \n",
      " 8   days_since_last_login         19919 non-null  int64  \n",
      " 9   avg_time_spent                19919 non-null  float64\n",
      " 10  avg_transaction_value         19919 non-null  float64\n",
      " 11  avg_frequency_login_days      19919 non-null  object \n",
      " 12  points_in_wallet              17956 non-null  float64\n",
      " 13  used_special_discount         19919 non-null  object \n",
      " 14  offer_application_preference  19919 non-null  object \n",
      " 15  past_complaint                19919 non-null  object \n",
      " 16  complaint_status              19919 non-null  object \n",
      " 17  feedback                      19919 non-null  object \n",
      "dtypes: float64(3), int64(2), object(13)\n",
      "memory usage: 2.7+ MB\n"
     ]
    }
   ],
   "source": [
    "test_df.info()"
   ]
  },
  {
   "cell_type": "code",
   "execution_count": 390,
   "metadata": {},
   "outputs": [
    {
     "data": {
      "text/plain": [
       "No reason specified         3423\n",
       "Poor Customer Service       3410\n",
       "Too many ads                3401\n",
       "Poor Product Quality        3374\n",
       "Poor Website                3301\n",
       "Reasonable Price             788\n",
       "Products always in Stock     778\n",
       "Quality Customer Care        755\n",
       "User Friendly Website        689\n",
       "Name: feedback, dtype: int64"
      ]
     },
     "execution_count": 390,
     "metadata": {},
     "output_type": "execute_result"
    }
   ],
   "source": [
    "test_df['feedback'].value_counts()"
   ]
  },
  {
   "cell_type": "markdown",
   "metadata": {},
   "source": [
    "Similar EDA operations are performed on Testset as performed for Trainset and not shown here for all the features."
   ]
  },
  {
   "cell_type": "code",
   "execution_count": 391,
   "metadata": {},
   "outputs": [
    {
     "data": {
      "text/plain": [
       "F    9972\n",
       "M    9911\n",
       "Name: gender, dtype: int64"
      ]
     },
     "execution_count": 391,
     "metadata": {},
     "output_type": "execute_result"
    }
   ],
   "source": [
    "# Check any unknown values or special symbols for categorical features in dataset\n",
    "# Replace 'Unknown' with NaN values\n",
    "test_df['gender'].value_counts()"
   ]
  },
  {
   "cell_type": "code",
   "execution_count": 392,
   "metadata": {},
   "outputs": [
    {
     "data": {
      "text/plain": [
       "Town       7635\n",
       "City       6792\n",
       "Village    2544\n",
       "Name: region_category, dtype: int64"
      ]
     },
     "execution_count": 392,
     "metadata": {},
     "output_type": "execute_result"
    }
   ],
   "source": [
    "# In this column no unknown or special symbols are found\n",
    "test_df['region_category'].value_counts()"
   ]
  },
  {
   "cell_type": "code",
   "execution_count": 393,
   "metadata": {},
   "outputs": [
    {
     "data": {
      "text/plain": [
       "No Membership          4123\n",
       "Basic Membership       4084\n",
       "Gold Membership        3750\n",
       "Silver Membership      3199\n",
       "Platinum Membership    2398\n",
       "Premium Membership     2365\n",
       "Name: membership_category, dtype: int64"
      ]
     },
     "execution_count": 393,
     "metadata": {},
     "output_type": "execute_result"
    }
   ],
   "source": [
    "# Check any unknown values or special symbols for categorical features in dataset\n",
    "test_df['membership_category'].value_counts()"
   ]
  },
  {
   "cell_type": "code",
   "execution_count": null,
   "metadata": {},
   "outputs": [],
   "source": []
  },
  {
   "cell_type": "code",
   "execution_count": 153,
   "metadata": {},
   "outputs": [
    {
     "data": {
      "text/plain": [
       "age                              0.000000\n",
       "gender                           0.180732\n",
       "region_category                 14.799940\n",
       "membership_category              0.000000\n",
       "joined_through_referral         15.050956\n",
       "preferred_offer_types            0.798233\n",
       "medium_of_operation             14.880265\n",
       "internet_option                  0.000000\n",
       "days_since_last_login            0.000000\n",
       "avg_time_spent                   0.000000\n",
       "avg_transaction_value            0.000000\n",
       "avg_frequency_login_days         9.613936\n",
       "points_in_wallet                 9.854912\n",
       "used_special_discount            0.000000\n",
       "offer_application_preference     0.000000\n",
       "past_complaint                   0.000000\n",
       "complaint_status                 0.000000\n",
       "feedback                         0.000000\n",
       "dtype: float64"
      ]
     },
     "execution_count": 153,
     "metadata": {},
     "output_type": "execute_result"
    }
   ],
   "source": [
    "# Checking Null values in terms of percentage\n",
    "test_df.isnull().sum() / test_df.shape[0] * 100"
   ]
  },
  {
   "cell_type": "code",
   "execution_count": 154,
   "metadata": {},
   "outputs": [
    {
     "data": {
      "text/plain": [
       "(19919, 18)"
      ]
     },
     "execution_count": 154,
     "metadata": {},
     "output_type": "execute_result"
    }
   ],
   "source": [
    "test_df.shape"
   ]
  },
  {
   "cell_type": "code",
   "execution_count": 155,
   "metadata": {},
   "outputs": [
    {
     "data": {
      "text/plain": [
       "(19919, 48)"
      ]
     },
     "execution_count": 155,
     "metadata": {},
     "output_type": "execute_result"
    }
   ],
   "source": [
    "test_df2 = pd.get_dummies(test_df)\n",
    "test_df2.shape"
   ]
  },
  {
   "cell_type": "code",
   "execution_count": 156,
   "metadata": {},
   "outputs": [
    {
     "name": "stdout",
     "output_type": "stream",
     "text": [
      "<class 'pandas.core.frame.DataFrame'>\n",
      "RangeIndex: 19919 entries, 0 to 19918\n",
      "Data columns (total 48 columns):\n",
      " #   Column                                          Non-Null Count  Dtype  \n",
      "---  ------                                          --------------  -----  \n",
      " 0   age                                             19919 non-null  int64  \n",
      " 1   days_since_last_login                           19919 non-null  int64  \n",
      " 2   avg_time_spent                                  19919 non-null  float64\n",
      " 3   avg_transaction_value                           19919 non-null  float64\n",
      " 4   avg_frequency_login_days                        18004 non-null  float64\n",
      " 5   points_in_wallet                                17956 non-null  float64\n",
      " 6   gender_F                                        19919 non-null  uint8  \n",
      " 7   gender_M                                        19919 non-null  uint8  \n",
      " 8   region_category_City                            19919 non-null  uint8  \n",
      " 9   region_category_Town                            19919 non-null  uint8  \n",
      " 10  region_category_Village                         19919 non-null  uint8  \n",
      " 11  membership_category_Basic Membership            19919 non-null  uint8  \n",
      " 12  membership_category_Gold Membership             19919 non-null  uint8  \n",
      " 13  membership_category_No Membership               19919 non-null  uint8  \n",
      " 14  membership_category_Platinum Membership         19919 non-null  uint8  \n",
      " 15  membership_category_Premium Membership          19919 non-null  uint8  \n",
      " 16  membership_category_Silver Membership           19919 non-null  uint8  \n",
      " 17  joined_through_referral_No                      19919 non-null  uint8  \n",
      " 18  joined_through_referral_Yes                     19919 non-null  uint8  \n",
      " 19  preferred_offer_types_Credit/Debit Card Offers  19919 non-null  uint8  \n",
      " 20  preferred_offer_types_Gift Vouchers/Coupons     19919 non-null  uint8  \n",
      " 21  preferred_offer_types_Without Offers            19919 non-null  uint8  \n",
      " 22  medium_of_operation_Both                        19919 non-null  uint8  \n",
      " 23  medium_of_operation_Desktop                     19919 non-null  uint8  \n",
      " 24  medium_of_operation_Smartphone                  19919 non-null  uint8  \n",
      " 25  internet_option_Fiber_Optic                     19919 non-null  uint8  \n",
      " 26  internet_option_Mobile_Data                     19919 non-null  uint8  \n",
      " 27  internet_option_Wi-Fi                           19919 non-null  uint8  \n",
      " 28  used_special_discount_No                        19919 non-null  uint8  \n",
      " 29  used_special_discount_Yes                       19919 non-null  uint8  \n",
      " 30  offer_application_preference_No                 19919 non-null  uint8  \n",
      " 31  offer_application_preference_Yes                19919 non-null  uint8  \n",
      " 32  past_complaint_No                               19919 non-null  uint8  \n",
      " 33  past_complaint_Yes                              19919 non-null  uint8  \n",
      " 34  complaint_status_No Information Available       19919 non-null  uint8  \n",
      " 35  complaint_status_Not Applicable                 19919 non-null  uint8  \n",
      " 36  complaint_status_Solved                         19919 non-null  uint8  \n",
      " 37  complaint_status_Solved in Follow-up            19919 non-null  uint8  \n",
      " 38  complaint_status_Unsolved                       19919 non-null  uint8  \n",
      " 39  feedback_No reason specified                    19919 non-null  uint8  \n",
      " 40  feedback_Poor Customer Service                  19919 non-null  uint8  \n",
      " 41  feedback_Poor Product Quality                   19919 non-null  uint8  \n",
      " 42  feedback_Poor Website                           19919 non-null  uint8  \n",
      " 43  feedback_Products always in Stock               19919 non-null  uint8  \n",
      " 44  feedback_Quality Customer Care                  19919 non-null  uint8  \n",
      " 45  feedback_Reasonable Price                       19919 non-null  uint8  \n",
      " 46  feedback_Too many ads                           19919 non-null  uint8  \n",
      " 47  feedback_User Friendly Website                  19919 non-null  uint8  \n",
      "dtypes: float64(4), int64(2), uint8(42)\n",
      "memory usage: 1.7 MB\n"
     ]
    }
   ],
   "source": [
    "test_df2.info()"
   ]
  },
  {
   "cell_type": "code",
   "execution_count": 158,
   "metadata": {},
   "outputs": [
    {
     "data": {
      "text/html": [
       "<div>\n",
       "<style scoped>\n",
       "    .dataframe tbody tr th:only-of-type {\n",
       "        vertical-align: middle;\n",
       "    }\n",
       "\n",
       "    .dataframe tbody tr th {\n",
       "        vertical-align: top;\n",
       "    }\n",
       "\n",
       "    .dataframe thead th {\n",
       "        text-align: right;\n",
       "    }\n",
       "</style>\n",
       "<table border=\"1\" class=\"dataframe\">\n",
       "  <thead>\n",
       "    <tr style=\"text-align: right;\">\n",
       "      <th></th>\n",
       "      <th>age</th>\n",
       "      <th>days_since_last_login</th>\n",
       "      <th>avg_time_spent</th>\n",
       "      <th>avg_transaction_value</th>\n",
       "      <th>avg_frequency_login_days</th>\n",
       "      <th>points_in_wallet</th>\n",
       "      <th>gender_F</th>\n",
       "      <th>gender_M</th>\n",
       "      <th>region_category_City</th>\n",
       "      <th>region_category_Town</th>\n",
       "      <th>...</th>\n",
       "      <th>complaint_status_Unsolved</th>\n",
       "      <th>feedback_No reason specified</th>\n",
       "      <th>feedback_Poor Customer Service</th>\n",
       "      <th>feedback_Poor Product Quality</th>\n",
       "      <th>feedback_Poor Website</th>\n",
       "      <th>feedback_Products always in Stock</th>\n",
       "      <th>feedback_Quality Customer Care</th>\n",
       "      <th>feedback_Reasonable Price</th>\n",
       "      <th>feedback_Too many ads</th>\n",
       "      <th>feedback_User Friendly Website</th>\n",
       "    </tr>\n",
       "  </thead>\n",
       "  <tbody>\n",
       "    <tr>\n",
       "      <th>0</th>\n",
       "      <td>50.0</td>\n",
       "      <td>12.0</td>\n",
       "      <td>386.26</td>\n",
       "      <td>40721.44</td>\n",
       "      <td>7.0</td>\n",
       "      <td>733.830000</td>\n",
       "      <td>1.0</td>\n",
       "      <td>0.0</td>\n",
       "      <td>0.0</td>\n",
       "      <td>0.0</td>\n",
       "      <td>...</td>\n",
       "      <td>0.0</td>\n",
       "      <td>0.0</td>\n",
       "      <td>0.0</td>\n",
       "      <td>1.0</td>\n",
       "      <td>0.0</td>\n",
       "      <td>0.0</td>\n",
       "      <td>0.0</td>\n",
       "      <td>0.0</td>\n",
       "      <td>0.0</td>\n",
       "      <td>0.0</td>\n",
       "    </tr>\n",
       "    <tr>\n",
       "      <th>1</th>\n",
       "      <td>41.0</td>\n",
       "      <td>11.0</td>\n",
       "      <td>37.80</td>\n",
       "      <td>9644.40</td>\n",
       "      <td>9.0</td>\n",
       "      <td>726.000000</td>\n",
       "      <td>0.0</td>\n",
       "      <td>1.0</td>\n",
       "      <td>0.0</td>\n",
       "      <td>0.0</td>\n",
       "      <td>...</td>\n",
       "      <td>0.0</td>\n",
       "      <td>0.0</td>\n",
       "      <td>0.0</td>\n",
       "      <td>0.0</td>\n",
       "      <td>1.0</td>\n",
       "      <td>0.0</td>\n",
       "      <td>0.0</td>\n",
       "      <td>0.0</td>\n",
       "      <td>0.0</td>\n",
       "      <td>0.0</td>\n",
       "    </tr>\n",
       "    <tr>\n",
       "      <th>2</th>\n",
       "      <td>31.0</td>\n",
       "      <td>18.0</td>\n",
       "      <td>215.36</td>\n",
       "      <td>3693.25</td>\n",
       "      <td>21.0</td>\n",
       "      <td>713.780000</td>\n",
       "      <td>1.0</td>\n",
       "      <td>0.0</td>\n",
       "      <td>0.0</td>\n",
       "      <td>1.0</td>\n",
       "      <td>...</td>\n",
       "      <td>0.0</td>\n",
       "      <td>1.0</td>\n",
       "      <td>0.0</td>\n",
       "      <td>0.0</td>\n",
       "      <td>0.0</td>\n",
       "      <td>0.0</td>\n",
       "      <td>0.0</td>\n",
       "      <td>0.0</td>\n",
       "      <td>0.0</td>\n",
       "      <td>0.0</td>\n",
       "    </tr>\n",
       "    <tr>\n",
       "      <th>3</th>\n",
       "      <td>64.0</td>\n",
       "      <td>-999.0</td>\n",
       "      <td>44.57</td>\n",
       "      <td>36809.56</td>\n",
       "      <td>11.0</td>\n",
       "      <td>744.970000</td>\n",
       "      <td>0.0</td>\n",
       "      <td>1.0</td>\n",
       "      <td>0.0</td>\n",
       "      <td>1.0</td>\n",
       "      <td>...</td>\n",
       "      <td>0.0</td>\n",
       "      <td>0.0</td>\n",
       "      <td>0.0</td>\n",
       "      <td>0.0</td>\n",
       "      <td>0.0</td>\n",
       "      <td>0.0</td>\n",
       "      <td>0.0</td>\n",
       "      <td>0.0</td>\n",
       "      <td>1.0</td>\n",
       "      <td>0.0</td>\n",
       "    </tr>\n",
       "    <tr>\n",
       "      <th>4</th>\n",
       "      <td>16.0</td>\n",
       "      <td>6.0</td>\n",
       "      <td>349.88</td>\n",
       "      <td>40675.86</td>\n",
       "      <td>8.0</td>\n",
       "      <td>299.048351</td>\n",
       "      <td>1.0</td>\n",
       "      <td>0.0</td>\n",
       "      <td>0.0</td>\n",
       "      <td>1.0</td>\n",
       "      <td>...</td>\n",
       "      <td>0.0</td>\n",
       "      <td>0.0</td>\n",
       "      <td>0.0</td>\n",
       "      <td>0.0</td>\n",
       "      <td>1.0</td>\n",
       "      <td>0.0</td>\n",
       "      <td>0.0</td>\n",
       "      <td>0.0</td>\n",
       "      <td>0.0</td>\n",
       "      <td>0.0</td>\n",
       "    </tr>\n",
       "  </tbody>\n",
       "</table>\n",
       "<p>5 rows × 48 columns</p>\n",
       "</div>"
      ],
      "text/plain": [
       "    age  days_since_last_login  avg_time_spent  avg_transaction_value  \\\n",
       "0  50.0                   12.0          386.26               40721.44   \n",
       "1  41.0                   11.0           37.80                9644.40   \n",
       "2  31.0                   18.0          215.36                3693.25   \n",
       "3  64.0                 -999.0           44.57               36809.56   \n",
       "4  16.0                    6.0          349.88               40675.86   \n",
       "\n",
       "   avg_frequency_login_days  points_in_wallet  gender_F  gender_M  \\\n",
       "0                       7.0        733.830000       1.0       0.0   \n",
       "1                       9.0        726.000000       0.0       1.0   \n",
       "2                      21.0        713.780000       1.0       0.0   \n",
       "3                      11.0        744.970000       0.0       1.0   \n",
       "4                       8.0        299.048351       1.0       0.0   \n",
       "\n",
       "   region_category_City  region_category_Town  ...  complaint_status_Unsolved  \\\n",
       "0                   0.0                   0.0  ...                        0.0   \n",
       "1                   0.0                   0.0  ...                        0.0   \n",
       "2                   0.0                   1.0  ...                        0.0   \n",
       "3                   0.0                   1.0  ...                        0.0   \n",
       "4                   0.0                   1.0  ...                        0.0   \n",
       "\n",
       "   feedback_No reason specified  feedback_Poor Customer Service  \\\n",
       "0                           0.0                             0.0   \n",
       "1                           0.0                             0.0   \n",
       "2                           1.0                             0.0   \n",
       "3                           0.0                             0.0   \n",
       "4                           0.0                             0.0   \n",
       "\n",
       "   feedback_Poor Product Quality  feedback_Poor Website  \\\n",
       "0                            1.0                    0.0   \n",
       "1                            0.0                    1.0   \n",
       "2                            0.0                    0.0   \n",
       "3                            0.0                    0.0   \n",
       "4                            0.0                    1.0   \n",
       "\n",
       "   feedback_Products always in Stock  feedback_Quality Customer Care  \\\n",
       "0                                0.0                             0.0   \n",
       "1                                0.0                             0.0   \n",
       "2                                0.0                             0.0   \n",
       "3                                0.0                             0.0   \n",
       "4                                0.0                             0.0   \n",
       "\n",
       "   feedback_Reasonable Price  feedback_Too many ads  \\\n",
       "0                        0.0                    0.0   \n",
       "1                        0.0                    0.0   \n",
       "2                        0.0                    0.0   \n",
       "3                        0.0                    1.0   \n",
       "4                        0.0                    0.0   \n",
       "\n",
       "   feedback_User Friendly Website  \n",
       "0                             0.0  \n",
       "1                             0.0  \n",
       "2                             0.0  \n",
       "3                             0.0  \n",
       "4                             0.0  \n",
       "\n",
       "[5 rows x 48 columns]"
      ]
     },
     "execution_count": 158,
     "metadata": {},
     "output_type": "execute_result"
    }
   ],
   "source": [
    "#Missing Values Imputation using Iterative Imputer\n",
    "from sklearn.experimental import enable_iterative_imputer\n",
    "# now you can import normally from sklearn.impute\n",
    "from sklearn.impute import IterativeImputer\n",
    "from sklearn.linear_model import LinearRegression\n",
    "\n",
    "it = IterativeImputer(estimator=LinearRegression())\n",
    "test_df3 = pd.DataFrame(it.fit_transform(test_df2))\n",
    "test_df3.columns = test_df2.columns\n",
    "test_df3.head()"
   ]
  },
  {
   "cell_type": "code",
   "execution_count": null,
   "metadata": {},
   "outputs": [],
   "source": []
  },
  {
   "cell_type": "markdown",
   "metadata": {},
   "source": [
    "# Evaluation for best model obtained from above Trainset"
   ]
  },
  {
   "cell_type": "code",
   "execution_count": 347,
   "metadata": {},
   "outputs": [
    {
     "data": {
      "text/plain": [
       "(19919,)"
      ]
     },
     "execution_count": 347,
     "metadata": {},
     "output_type": "execute_result"
    }
   ],
   "source": [
    "label = pipe.predict(test_df3)\n",
    "label.shape"
   ]
  },
  {
   "cell_type": "code",
   "execution_count": 348,
   "metadata": {},
   "outputs": [],
   "source": [
    "# Converting file into .csv for uploading\n",
    "df_test = pd.read_csv('test.csv')\n",
    "sample_submission = df_test[['customer_id']]\n",
    "sample_submission['churn_risk_score'] = label\n",
    "sample_submission.to_csv('sample_submission.csv')"
   ]
  },
  {
   "cell_type": "code",
   "execution_count": null,
   "metadata": {},
   "outputs": [],
   "source": []
  },
  {
   "cell_type": "raw",
   "metadata": {},
   "source": [
    "- The best model with accuracy for test obtained is 76.58401 after several trial and errors.\n",
    "- Still there is a scope by Feature Engineering for generating Good model performance.\n",
    "- Model can be Tuned for various parameters and it can be evaluated for better results."
   ]
  }
 ],
 "metadata": {
  "kernelspec": {
   "display_name": "Python 3",
   "language": "python",
   "name": "python3"
  },
  "language_info": {
   "codemirror_mode": {
    "name": "ipython",
    "version": 3
   },
   "file_extension": ".py",
   "mimetype": "text/x-python",
   "name": "python",
   "nbconvert_exporter": "python",
   "pygments_lexer": "ipython3",
   "version": "3.8.5"
  }
 },
 "nbformat": 4,
 "nbformat_minor": 4
}
